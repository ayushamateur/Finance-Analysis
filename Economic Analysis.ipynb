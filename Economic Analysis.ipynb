{
 "cells": [
  {
   "cell_type": "code",
   "execution_count": 1,
   "id": "23dd7a92",
   "metadata": {},
   "outputs": [],
   "source": [
    "import pandas as pd\n",
    "import numpy as np\n",
    "import matplotlib.pyplot as plt\n",
    "import seaborn as sns\n",
    "%matplotlib inline"
   ]
  },
  {
   "cell_type": "code",
   "execution_count": 2,
   "id": "d9de7f62",
   "metadata": {},
   "outputs": [],
   "source": [
    "plt.style.use('fivethirtyeight')\n",
    "color_pal = plt.rcParams[\"axes.prop_cycle\"].by_key()[\"color\"]"
   ]
  },
  {
   "cell_type": "code",
   "execution_count": 3,
   "id": "2671dbf8",
   "metadata": {},
   "outputs": [],
   "source": [
    "df = pd.read_csv(r\"D:\\Stock.csv\")"
   ]
  },
  {
   "cell_type": "code",
   "execution_count": 4,
   "id": "2c863cb1",
   "metadata": {},
   "outputs": [
    {
     "data": {
      "text/html": [
       "<div>\n",
       "<style scoped>\n",
       "    .dataframe tbody tr th:only-of-type {\n",
       "        vertical-align: middle;\n",
       "    }\n",
       "\n",
       "    .dataframe tbody tr th {\n",
       "        vertical-align: top;\n",
       "    }\n",
       "\n",
       "    .dataframe thead th {\n",
       "        text-align: right;\n",
       "    }\n",
       "</style>\n",
       "<table border=\"1\" class=\"dataframe\">\n",
       "  <thead>\n",
       "    <tr style=\"text-align: right;\">\n",
       "      <th></th>\n",
       "      <th>Company</th>\n",
       "      <th>Date</th>\n",
       "      <th>Close/Last</th>\n",
       "      <th>Volume</th>\n",
       "      <th>Open</th>\n",
       "      <th>High</th>\n",
       "      <th>Low</th>\n",
       "    </tr>\n",
       "  </thead>\n",
       "  <tbody>\n",
       "    <tr>\n",
       "      <th>0</th>\n",
       "      <td>AAPL</td>\n",
       "      <td>07/17/2023</td>\n",
       "      <td>$193.99</td>\n",
       "      <td>50520160</td>\n",
       "      <td>$191.90</td>\n",
       "      <td>$194.32</td>\n",
       "      <td>$191.81</td>\n",
       "    </tr>\n",
       "    <tr>\n",
       "      <th>1</th>\n",
       "      <td>AAPL</td>\n",
       "      <td>07/14/2023</td>\n",
       "      <td>$190.69</td>\n",
       "      <td>41616240</td>\n",
       "      <td>$190.23</td>\n",
       "      <td>$191.1799</td>\n",
       "      <td>$189.63</td>\n",
       "    </tr>\n",
       "    <tr>\n",
       "      <th>2</th>\n",
       "      <td>AAPL</td>\n",
       "      <td>07/13/2023</td>\n",
       "      <td>$190.54</td>\n",
       "      <td>41342340</td>\n",
       "      <td>$190.50</td>\n",
       "      <td>$191.19</td>\n",
       "      <td>$189.78</td>\n",
       "    </tr>\n",
       "    <tr>\n",
       "      <th>3</th>\n",
       "      <td>AAPL</td>\n",
       "      <td>07-12-2023</td>\n",
       "      <td>$189.77</td>\n",
       "      <td>60750250</td>\n",
       "      <td>$189.68</td>\n",
       "      <td>$191.70</td>\n",
       "      <td>$188.47</td>\n",
       "    </tr>\n",
       "    <tr>\n",
       "      <th>4</th>\n",
       "      <td>AAPL</td>\n",
       "      <td>07-11-2023</td>\n",
       "      <td>$188.08</td>\n",
       "      <td>46638120</td>\n",
       "      <td>$189.16</td>\n",
       "      <td>$189.30</td>\n",
       "      <td>$186.60</td>\n",
       "    </tr>\n",
       "  </tbody>\n",
       "</table>\n",
       "</div>"
      ],
      "text/plain": [
       "  Company        Date Close/Last    Volume     Open       High      Low\n",
       "0    AAPL  07/17/2023    $193.99  50520160  $191.90    $194.32  $191.81\n",
       "1    AAPL  07/14/2023    $190.69  41616240  $190.23  $191.1799  $189.63\n",
       "2    AAPL  07/13/2023    $190.54  41342340  $190.50    $191.19  $189.78\n",
       "3    AAPL  07-12-2023    $189.77  60750250  $189.68    $191.70  $188.47\n",
       "4    AAPL  07-11-2023    $188.08  46638120  $189.16    $189.30  $186.60"
      ]
     },
     "execution_count": 4,
     "metadata": {},
     "output_type": "execute_result"
    }
   ],
   "source": [
    "df.head()"
   ]
  },
  {
   "cell_type": "code",
   "execution_count": 5,
   "id": "5f490107",
   "metadata": {},
   "outputs": [
    {
     "data": {
      "text/plain": [
       "(25160, 7)"
      ]
     },
     "execution_count": 5,
     "metadata": {},
     "output_type": "execute_result"
    }
   ],
   "source": [
    "df.shape"
   ]
  },
  {
   "cell_type": "code",
   "execution_count": 6,
   "id": "30b4d292",
   "metadata": {},
   "outputs": [
    {
     "name": "stdout",
     "output_type": "stream",
     "text": [
      "<class 'pandas.core.frame.DataFrame'>\n",
      "RangeIndex: 25160 entries, 0 to 25159\n",
      "Data columns (total 7 columns):\n",
      " #   Column      Non-Null Count  Dtype \n",
      "---  ------      --------------  ----- \n",
      " 0   Company     25160 non-null  object\n",
      " 1   Date        25160 non-null  object\n",
      " 2   Close/Last  25160 non-null  object\n",
      " 3   Volume      25160 non-null  int64 \n",
      " 4   Open        25160 non-null  object\n",
      " 5   High        25160 non-null  object\n",
      " 6   Low         25160 non-null  object\n",
      "dtypes: int64(1), object(6)\n",
      "memory usage: 1.3+ MB\n"
     ]
    }
   ],
   "source": [
    "df.info()"
   ]
  },
  {
   "cell_type": "code",
   "execution_count": 7,
   "id": "8256a103",
   "metadata": {},
   "outputs": [],
   "source": [
    "df[['Close/Last', 'Volume', 'Open', 'High', 'Low']]=df[['Close/Last', 'Volume', 'Open', 'High', 'Low']].replace(r'\\W', '', regex=True)"
   ]
  },
  {
   "cell_type": "code",
   "execution_count": 8,
   "id": "592a6cae",
   "metadata": {},
   "outputs": [
    {
     "data": {
      "text/html": [
       "<div>\n",
       "<style scoped>\n",
       "    .dataframe tbody tr th:only-of-type {\n",
       "        vertical-align: middle;\n",
       "    }\n",
       "\n",
       "    .dataframe tbody tr th {\n",
       "        vertical-align: top;\n",
       "    }\n",
       "\n",
       "    .dataframe thead th {\n",
       "        text-align: right;\n",
       "    }\n",
       "</style>\n",
       "<table border=\"1\" class=\"dataframe\">\n",
       "  <thead>\n",
       "    <tr style=\"text-align: right;\">\n",
       "      <th></th>\n",
       "      <th>Company</th>\n",
       "      <th>Date</th>\n",
       "      <th>Close/Last</th>\n",
       "      <th>Volume</th>\n",
       "      <th>Open</th>\n",
       "      <th>High</th>\n",
       "      <th>Low</th>\n",
       "    </tr>\n",
       "  </thead>\n",
       "  <tbody>\n",
       "    <tr>\n",
       "      <th>0</th>\n",
       "      <td>AAPL</td>\n",
       "      <td>07/17/2023</td>\n",
       "      <td>19399</td>\n",
       "      <td>50520160</td>\n",
       "      <td>19190</td>\n",
       "      <td>19432</td>\n",
       "      <td>19181</td>\n",
       "    </tr>\n",
       "    <tr>\n",
       "      <th>1</th>\n",
       "      <td>AAPL</td>\n",
       "      <td>07/14/2023</td>\n",
       "      <td>19069</td>\n",
       "      <td>41616240</td>\n",
       "      <td>19023</td>\n",
       "      <td>1911799</td>\n",
       "      <td>18963</td>\n",
       "    </tr>\n",
       "    <tr>\n",
       "      <th>2</th>\n",
       "      <td>AAPL</td>\n",
       "      <td>07/13/2023</td>\n",
       "      <td>19054</td>\n",
       "      <td>41342340</td>\n",
       "      <td>19050</td>\n",
       "      <td>19119</td>\n",
       "      <td>18978</td>\n",
       "    </tr>\n",
       "    <tr>\n",
       "      <th>3</th>\n",
       "      <td>AAPL</td>\n",
       "      <td>07-12-2023</td>\n",
       "      <td>18977</td>\n",
       "      <td>60750250</td>\n",
       "      <td>18968</td>\n",
       "      <td>19170</td>\n",
       "      <td>18847</td>\n",
       "    </tr>\n",
       "    <tr>\n",
       "      <th>4</th>\n",
       "      <td>AAPL</td>\n",
       "      <td>07-11-2023</td>\n",
       "      <td>18808</td>\n",
       "      <td>46638120</td>\n",
       "      <td>18916</td>\n",
       "      <td>18930</td>\n",
       "      <td>18660</td>\n",
       "    </tr>\n",
       "  </tbody>\n",
       "</table>\n",
       "</div>"
      ],
      "text/plain": [
       "  Company        Date Close/Last    Volume   Open     High    Low\n",
       "0    AAPL  07/17/2023      19399  50520160  19190    19432  19181\n",
       "1    AAPL  07/14/2023      19069  41616240  19023  1911799  18963\n",
       "2    AAPL  07/13/2023      19054  41342340  19050    19119  18978\n",
       "3    AAPL  07-12-2023      18977  60750250  18968    19170  18847\n",
       "4    AAPL  07-11-2023      18808  46638120  18916    18930  18660"
      ]
     },
     "execution_count": 8,
     "metadata": {},
     "output_type": "execute_result"
    }
   ],
   "source": [
    "df.head()"
   ]
  },
  {
   "cell_type": "code",
   "execution_count": 9,
   "id": "797cc365",
   "metadata": {},
   "outputs": [
    {
     "data": {
      "text/plain": [
       "Company       0\n",
       "Date          0\n",
       "Close/Last    0\n",
       "Volume        0\n",
       "Open          0\n",
       "High          0\n",
       "Low           0\n",
       "dtype: int64"
      ]
     },
     "execution_count": 9,
     "metadata": {},
     "output_type": "execute_result"
    }
   ],
   "source": [
    "df.isnull().sum()"
   ]
  },
  {
   "cell_type": "code",
   "execution_count": 10,
   "id": "bf1cdaae",
   "metadata": {},
   "outputs": [
    {
     "data": {
      "text/html": [
       "<div>\n",
       "<style scoped>\n",
       "    .dataframe tbody tr th:only-of-type {\n",
       "        vertical-align: middle;\n",
       "    }\n",
       "\n",
       "    .dataframe tbody tr th {\n",
       "        vertical-align: top;\n",
       "    }\n",
       "\n",
       "    .dataframe thead th {\n",
       "        text-align: right;\n",
       "    }\n",
       "</style>\n",
       "<table border=\"1\" class=\"dataframe\">\n",
       "  <thead>\n",
       "    <tr style=\"text-align: right;\">\n",
       "      <th></th>\n",
       "      <th>Volume</th>\n",
       "    </tr>\n",
       "  </thead>\n",
       "  <tbody>\n",
       "    <tr>\n",
       "      <th>count</th>\n",
       "      <td>2.516000e+04</td>\n",
       "    </tr>\n",
       "    <tr>\n",
       "      <th>mean</th>\n",
       "      <td>5.131764e+07</td>\n",
       "    </tr>\n",
       "    <tr>\n",
       "      <th>std</th>\n",
       "      <td>6.399143e+07</td>\n",
       "    </tr>\n",
       "    <tr>\n",
       "      <th>min</th>\n",
       "      <td>1.143952e+06</td>\n",
       "    </tr>\n",
       "    <tr>\n",
       "      <th>25%</th>\n",
       "      <td>1.200394e+07</td>\n",
       "    </tr>\n",
       "    <tr>\n",
       "      <th>50%</th>\n",
       "      <td>2.672083e+07</td>\n",
       "    </tr>\n",
       "    <tr>\n",
       "      <th>75%</th>\n",
       "      <td>6.857269e+07</td>\n",
       "    </tr>\n",
       "    <tr>\n",
       "      <th>max</th>\n",
       "      <td>1.065209e+09</td>\n",
       "    </tr>\n",
       "  </tbody>\n",
       "</table>\n",
       "</div>"
      ],
      "text/plain": [
       "             Volume\n",
       "count  2.516000e+04\n",
       "mean   5.131764e+07\n",
       "std    6.399143e+07\n",
       "min    1.143952e+06\n",
       "25%    1.200394e+07\n",
       "50%    2.672083e+07\n",
       "75%    6.857269e+07\n",
       "max    1.065209e+09"
      ]
     },
     "execution_count": 10,
     "metadata": {},
     "output_type": "execute_result"
    }
   ],
   "source": [
    "df.describe()"
   ]
  },
  {
   "cell_type": "code",
   "execution_count": 11,
   "id": "71ebfc1f",
   "metadata": {},
   "outputs": [
    {
     "data": {
      "text/plain": [
       "Company       object\n",
       "Date          object\n",
       "Close/Last    object\n",
       "Volume         int64\n",
       "Open          object\n",
       "High          object\n",
       "Low           object\n",
       "dtype: object"
      ]
     },
     "execution_count": 11,
     "metadata": {},
     "output_type": "execute_result"
    }
   ],
   "source": [
    "df.dtypes"
   ]
  },
  {
   "cell_type": "code",
   "execution_count": 12,
   "id": "d21d300e",
   "metadata": {},
   "outputs": [],
   "source": [
    "df['Date'] = pd.to_datetime(df['Date'])"
   ]
  },
  {
   "cell_type": "code",
   "execution_count": 13,
   "id": "148d73df",
   "metadata": {},
   "outputs": [],
   "source": [
    "df[['Close/Last', 'Volume', 'Open', 'High', 'Low']]=df[['Close/Last', 'Volume', 'Open', 'High', 'Low']].astype(int)"
   ]
  },
  {
   "cell_type": "code",
   "execution_count": 14,
   "id": "6506de6b",
   "metadata": {},
   "outputs": [
    {
     "data": {
      "text/plain": [
       "Company               object\n",
       "Date          datetime64[ns]\n",
       "Close/Last             int32\n",
       "Volume                 int32\n",
       "Open                   int32\n",
       "High                   int32\n",
       "Low                    int32\n",
       "dtype: object"
      ]
     },
     "execution_count": 14,
     "metadata": {},
     "output_type": "execute_result"
    }
   ],
   "source": [
    "df.dtypes"
   ]
  },
  {
   "cell_type": "code",
   "execution_count": 15,
   "id": "7b577f9e",
   "metadata": {},
   "outputs": [
    {
     "data": {
      "text/plain": [
       "array(['AAPL', 'SBUX', 'MSFT', 'CSCO', 'QCOM', 'META', 'AMZN', 'TSLA',\n",
       "       'AMD', 'NFLX'], dtype=object)"
      ]
     },
     "execution_count": 15,
     "metadata": {},
     "output_type": "execute_result"
    }
   ],
   "source": [
    "df['Company'].unique()"
   ]
  },
  {
   "cell_type": "code",
   "execution_count": 16,
   "id": "aed01f81",
   "metadata": {},
   "outputs": [
    {
     "data": {
      "text/html": [
       "<div>\n",
       "<style scoped>\n",
       "    .dataframe tbody tr th:only-of-type {\n",
       "        vertical-align: middle;\n",
       "    }\n",
       "\n",
       "    .dataframe tbody tr th {\n",
       "        vertical-align: top;\n",
       "    }\n",
       "\n",
       "    .dataframe thead th {\n",
       "        text-align: right;\n",
       "    }\n",
       "</style>\n",
       "<table border=\"1\" class=\"dataframe\">\n",
       "  <thead>\n",
       "    <tr style=\"text-align: right;\">\n",
       "      <th></th>\n",
       "      <th>Company</th>\n",
       "      <th>Date</th>\n",
       "      <th>Close/Last</th>\n",
       "      <th>Volume</th>\n",
       "      <th>Open</th>\n",
       "      <th>High</th>\n",
       "      <th>Low</th>\n",
       "    </tr>\n",
       "  </thead>\n",
       "  <tbody>\n",
       "    <tr>\n",
       "      <th>0</th>\n",
       "      <td>AAPL</td>\n",
       "      <td>2023-07-17</td>\n",
       "      <td>19399</td>\n",
       "      <td>50520160</td>\n",
       "      <td>19190</td>\n",
       "      <td>19432</td>\n",
       "      <td>19181</td>\n",
       "    </tr>\n",
       "    <tr>\n",
       "      <th>1</th>\n",
       "      <td>AAPL</td>\n",
       "      <td>2023-07-14</td>\n",
       "      <td>19069</td>\n",
       "      <td>41616240</td>\n",
       "      <td>19023</td>\n",
       "      <td>1911799</td>\n",
       "      <td>18963</td>\n",
       "    </tr>\n",
       "    <tr>\n",
       "      <th>2</th>\n",
       "      <td>AAPL</td>\n",
       "      <td>2023-07-13</td>\n",
       "      <td>19054</td>\n",
       "      <td>41342340</td>\n",
       "      <td>19050</td>\n",
       "      <td>19119</td>\n",
       "      <td>18978</td>\n",
       "    </tr>\n",
       "    <tr>\n",
       "      <th>3</th>\n",
       "      <td>AAPL</td>\n",
       "      <td>2023-07-12</td>\n",
       "      <td>18977</td>\n",
       "      <td>60750250</td>\n",
       "      <td>18968</td>\n",
       "      <td>19170</td>\n",
       "      <td>18847</td>\n",
       "    </tr>\n",
       "    <tr>\n",
       "      <th>4</th>\n",
       "      <td>AAPL</td>\n",
       "      <td>2023-07-11</td>\n",
       "      <td>18808</td>\n",
       "      <td>46638120</td>\n",
       "      <td>18916</td>\n",
       "      <td>18930</td>\n",
       "      <td>18660</td>\n",
       "    </tr>\n",
       "  </tbody>\n",
       "</table>\n",
       "</div>"
      ],
      "text/plain": [
       "  Company       Date  Close/Last    Volume   Open     High    Low\n",
       "0    AAPL 2023-07-17       19399  50520160  19190    19432  19181\n",
       "1    AAPL 2023-07-14       19069  41616240  19023  1911799  18963\n",
       "2    AAPL 2023-07-13       19054  41342340  19050    19119  18978\n",
       "3    AAPL 2023-07-12       18977  60750250  18968    19170  18847\n",
       "4    AAPL 2023-07-11       18808  46638120  18916    18930  18660"
      ]
     },
     "execution_count": 16,
     "metadata": {},
     "output_type": "execute_result"
    }
   ],
   "source": [
    "df.head()"
   ]
  },
  {
   "cell_type": "code",
   "execution_count": 17,
   "id": "d7648bde",
   "metadata": {},
   "outputs": [
    {
     "data": {
      "text/plain": [
       "Company\n",
       "NFLX    6321791\n",
       "TSLA    4093333\n",
       "META    3492348\n",
       "MSFT    2840464\n",
       "AMZN    1858689\n",
       "QCOM    1764447\n",
       "AAPL    1286975\n",
       "SBUX    1153959\n",
       "CSCO     558876\n",
       "AMD      530335\n",
       "Name: Open, dtype: int32"
      ]
     },
     "execution_count": 17,
     "metadata": {},
     "output_type": "execute_result"
    }
   ],
   "source": [
    "df.groupby(by = 'Company')['Open'].max().sort_values(ascending = False)"
   ]
  },
  {
   "cell_type": "code",
   "execution_count": 18,
   "id": "1593ce03",
   "metadata": {},
   "outputs": [
    {
     "data": {
      "text/plain": [
       "Company\n",
       "QCOM    4251\n",
       "NFLX    3522\n",
       "SBUX    3347\n",
       "MSFT    3110\n",
       "META    2582\n",
       "CSCO    2035\n",
       "AAPL    1607\n",
       "AMZN    1422\n",
       "TSLA     790\n",
       "AMD      162\n",
       "Name: Open, dtype: int32"
      ]
     },
     "execution_count": 18,
     "metadata": {},
     "output_type": "execute_result"
    }
   ],
   "source": [
    "df.groupby(by = 'Company')['Open'].min().sort_values(ascending = False)"
   ]
  },
  {
   "cell_type": "code",
   "execution_count": 19,
   "id": "5cdd6136",
   "metadata": {},
   "outputs": [],
   "source": [
    "df['Returns'] = df['Close/Last'].pct_change()"
   ]
  },
  {
   "cell_type": "code",
   "execution_count": 20,
   "id": "e5a83e5c",
   "metadata": {},
   "outputs": [
    {
     "data": {
      "text/html": [
       "<div>\n",
       "<style scoped>\n",
       "    .dataframe tbody tr th:only-of-type {\n",
       "        vertical-align: middle;\n",
       "    }\n",
       "\n",
       "    .dataframe tbody tr th {\n",
       "        vertical-align: top;\n",
       "    }\n",
       "\n",
       "    .dataframe thead th {\n",
       "        text-align: right;\n",
       "    }\n",
       "</style>\n",
       "<table border=\"1\" class=\"dataframe\">\n",
       "  <thead>\n",
       "    <tr style=\"text-align: right;\">\n",
       "      <th></th>\n",
       "      <th>Company</th>\n",
       "      <th>Date</th>\n",
       "      <th>Close/Last</th>\n",
       "      <th>Volume</th>\n",
       "      <th>Open</th>\n",
       "      <th>High</th>\n",
       "      <th>Low</th>\n",
       "      <th>Returns</th>\n",
       "    </tr>\n",
       "  </thead>\n",
       "  <tbody>\n",
       "    <tr>\n",
       "      <th>0</th>\n",
       "      <td>AAPL</td>\n",
       "      <td>2023-07-17</td>\n",
       "      <td>19399</td>\n",
       "      <td>50520160</td>\n",
       "      <td>19190</td>\n",
       "      <td>19432</td>\n",
       "      <td>19181</td>\n",
       "      <td>NaN</td>\n",
       "    </tr>\n",
       "    <tr>\n",
       "      <th>1</th>\n",
       "      <td>AAPL</td>\n",
       "      <td>2023-07-14</td>\n",
       "      <td>19069</td>\n",
       "      <td>41616240</td>\n",
       "      <td>19023</td>\n",
       "      <td>1911799</td>\n",
       "      <td>18963</td>\n",
       "      <td>-0.017011</td>\n",
       "    </tr>\n",
       "    <tr>\n",
       "      <th>2</th>\n",
       "      <td>AAPL</td>\n",
       "      <td>2023-07-13</td>\n",
       "      <td>19054</td>\n",
       "      <td>41342340</td>\n",
       "      <td>19050</td>\n",
       "      <td>19119</td>\n",
       "      <td>18978</td>\n",
       "      <td>-0.000787</td>\n",
       "    </tr>\n",
       "    <tr>\n",
       "      <th>3</th>\n",
       "      <td>AAPL</td>\n",
       "      <td>2023-07-12</td>\n",
       "      <td>18977</td>\n",
       "      <td>60750250</td>\n",
       "      <td>18968</td>\n",
       "      <td>19170</td>\n",
       "      <td>18847</td>\n",
       "      <td>-0.004041</td>\n",
       "    </tr>\n",
       "    <tr>\n",
       "      <th>4</th>\n",
       "      <td>AAPL</td>\n",
       "      <td>2023-07-11</td>\n",
       "      <td>18808</td>\n",
       "      <td>46638120</td>\n",
       "      <td>18916</td>\n",
       "      <td>18930</td>\n",
       "      <td>18660</td>\n",
       "      <td>-0.008906</td>\n",
       "    </tr>\n",
       "  </tbody>\n",
       "</table>\n",
       "</div>"
      ],
      "text/plain": [
       "  Company       Date  Close/Last    Volume   Open     High    Low   Returns\n",
       "0    AAPL 2023-07-17       19399  50520160  19190    19432  19181       NaN\n",
       "1    AAPL 2023-07-14       19069  41616240  19023  1911799  18963 -0.017011\n",
       "2    AAPL 2023-07-13       19054  41342340  19050    19119  18978 -0.000787\n",
       "3    AAPL 2023-07-12       18977  60750250  18968    19170  18847 -0.004041\n",
       "4    AAPL 2023-07-11       18808  46638120  18916    18930  18660 -0.008906"
      ]
     },
     "execution_count": 20,
     "metadata": {},
     "output_type": "execute_result"
    }
   ],
   "source": [
    "df.head()"
   ]
  },
  {
   "cell_type": "code",
   "execution_count": 21,
   "id": "3ed9d712",
   "metadata": {},
   "outputs": [],
   "source": [
    "df = df.drop(0)"
   ]
  },
  {
   "cell_type": "code",
   "execution_count": 22,
   "id": "ee5e6e47",
   "metadata": {},
   "outputs": [
    {
     "data": {
      "text/html": [
       "<div>\n",
       "<style scoped>\n",
       "    .dataframe tbody tr th:only-of-type {\n",
       "        vertical-align: middle;\n",
       "    }\n",
       "\n",
       "    .dataframe tbody tr th {\n",
       "        vertical-align: top;\n",
       "    }\n",
       "\n",
       "    .dataframe thead th {\n",
       "        text-align: right;\n",
       "    }\n",
       "</style>\n",
       "<table border=\"1\" class=\"dataframe\">\n",
       "  <thead>\n",
       "    <tr style=\"text-align: right;\">\n",
       "      <th></th>\n",
       "      <th>Company</th>\n",
       "      <th>Date</th>\n",
       "      <th>Close/Last</th>\n",
       "      <th>Volume</th>\n",
       "      <th>Open</th>\n",
       "      <th>High</th>\n",
       "      <th>Low</th>\n",
       "      <th>Returns</th>\n",
       "    </tr>\n",
       "  </thead>\n",
       "  <tbody>\n",
       "    <tr>\n",
       "      <th>1</th>\n",
       "      <td>AAPL</td>\n",
       "      <td>2023-07-14</td>\n",
       "      <td>19069</td>\n",
       "      <td>41616240</td>\n",
       "      <td>19023</td>\n",
       "      <td>1911799</td>\n",
       "      <td>18963</td>\n",
       "      <td>-0.017011</td>\n",
       "    </tr>\n",
       "    <tr>\n",
       "      <th>2</th>\n",
       "      <td>AAPL</td>\n",
       "      <td>2023-07-13</td>\n",
       "      <td>19054</td>\n",
       "      <td>41342340</td>\n",
       "      <td>19050</td>\n",
       "      <td>19119</td>\n",
       "      <td>18978</td>\n",
       "      <td>-0.000787</td>\n",
       "    </tr>\n",
       "    <tr>\n",
       "      <th>3</th>\n",
       "      <td>AAPL</td>\n",
       "      <td>2023-07-12</td>\n",
       "      <td>18977</td>\n",
       "      <td>60750250</td>\n",
       "      <td>18968</td>\n",
       "      <td>19170</td>\n",
       "      <td>18847</td>\n",
       "      <td>-0.004041</td>\n",
       "    </tr>\n",
       "    <tr>\n",
       "      <th>4</th>\n",
       "      <td>AAPL</td>\n",
       "      <td>2023-07-11</td>\n",
       "      <td>18808</td>\n",
       "      <td>46638120</td>\n",
       "      <td>18916</td>\n",
       "      <td>18930</td>\n",
       "      <td>18660</td>\n",
       "      <td>-0.008906</td>\n",
       "    </tr>\n",
       "    <tr>\n",
       "      <th>5</th>\n",
       "      <td>AAPL</td>\n",
       "      <td>2023-07-10</td>\n",
       "      <td>18861</td>\n",
       "      <td>59922160</td>\n",
       "      <td>18926</td>\n",
       "      <td>18999</td>\n",
       "      <td>187035</td>\n",
       "      <td>0.002818</td>\n",
       "    </tr>\n",
       "  </tbody>\n",
       "</table>\n",
       "</div>"
      ],
      "text/plain": [
       "  Company       Date  Close/Last    Volume   Open     High     Low   Returns\n",
       "1    AAPL 2023-07-14       19069  41616240  19023  1911799   18963 -0.017011\n",
       "2    AAPL 2023-07-13       19054  41342340  19050    19119   18978 -0.000787\n",
       "3    AAPL 2023-07-12       18977  60750250  18968    19170   18847 -0.004041\n",
       "4    AAPL 2023-07-11       18808  46638120  18916    18930   18660 -0.008906\n",
       "5    AAPL 2023-07-10       18861  59922160  18926    18999  187035  0.002818"
      ]
     },
     "execution_count": 22,
     "metadata": {},
     "output_type": "execute_result"
    }
   ],
   "source": [
    "df.head()"
   ]
  },
  {
   "cell_type": "code",
   "execution_count": 23,
   "id": "82ff0b45",
   "metadata": {},
   "outputs": [],
   "source": [
    "aapl = df[df['Company'] == 'AAPL']"
   ]
  },
  {
   "cell_type": "code",
   "execution_count": 24,
   "id": "4ebfbc91",
   "metadata": {},
   "outputs": [
    {
     "data": {
      "text/html": [
       "<div>\n",
       "<style scoped>\n",
       "    .dataframe tbody tr th:only-of-type {\n",
       "        vertical-align: middle;\n",
       "    }\n",
       "\n",
       "    .dataframe tbody tr th {\n",
       "        vertical-align: top;\n",
       "    }\n",
       "\n",
       "    .dataframe thead th {\n",
       "        text-align: right;\n",
       "    }\n",
       "</style>\n",
       "<table border=\"1\" class=\"dataframe\">\n",
       "  <thead>\n",
       "    <tr style=\"text-align: right;\">\n",
       "      <th></th>\n",
       "      <th>Company</th>\n",
       "      <th>Date</th>\n",
       "      <th>Close/Last</th>\n",
       "      <th>Volume</th>\n",
       "      <th>Open</th>\n",
       "      <th>High</th>\n",
       "      <th>Low</th>\n",
       "      <th>Returns</th>\n",
       "    </tr>\n",
       "  </thead>\n",
       "  <tbody>\n",
       "    <tr>\n",
       "      <th>1</th>\n",
       "      <td>AAPL</td>\n",
       "      <td>2023-07-14</td>\n",
       "      <td>19069</td>\n",
       "      <td>41616240</td>\n",
       "      <td>19023</td>\n",
       "      <td>1911799</td>\n",
       "      <td>18963</td>\n",
       "      <td>-0.017011</td>\n",
       "    </tr>\n",
       "    <tr>\n",
       "      <th>2</th>\n",
       "      <td>AAPL</td>\n",
       "      <td>2023-07-13</td>\n",
       "      <td>19054</td>\n",
       "      <td>41342340</td>\n",
       "      <td>19050</td>\n",
       "      <td>19119</td>\n",
       "      <td>18978</td>\n",
       "      <td>-0.000787</td>\n",
       "    </tr>\n",
       "    <tr>\n",
       "      <th>3</th>\n",
       "      <td>AAPL</td>\n",
       "      <td>2023-07-12</td>\n",
       "      <td>18977</td>\n",
       "      <td>60750250</td>\n",
       "      <td>18968</td>\n",
       "      <td>19170</td>\n",
       "      <td>18847</td>\n",
       "      <td>-0.004041</td>\n",
       "    </tr>\n",
       "    <tr>\n",
       "      <th>4</th>\n",
       "      <td>AAPL</td>\n",
       "      <td>2023-07-11</td>\n",
       "      <td>18808</td>\n",
       "      <td>46638120</td>\n",
       "      <td>18916</td>\n",
       "      <td>18930</td>\n",
       "      <td>18660</td>\n",
       "      <td>-0.008906</td>\n",
       "    </tr>\n",
       "    <tr>\n",
       "      <th>5</th>\n",
       "      <td>AAPL</td>\n",
       "      <td>2023-07-10</td>\n",
       "      <td>18861</td>\n",
       "      <td>59922160</td>\n",
       "      <td>18926</td>\n",
       "      <td>18999</td>\n",
       "      <td>187035</td>\n",
       "      <td>0.002818</td>\n",
       "    </tr>\n",
       "  </tbody>\n",
       "</table>\n",
       "</div>"
      ],
      "text/plain": [
       "  Company       Date  Close/Last    Volume   Open     High     Low   Returns\n",
       "1    AAPL 2023-07-14       19069  41616240  19023  1911799   18963 -0.017011\n",
       "2    AAPL 2023-07-13       19054  41342340  19050    19119   18978 -0.000787\n",
       "3    AAPL 2023-07-12       18977  60750250  18968    19170   18847 -0.004041\n",
       "4    AAPL 2023-07-11       18808  46638120  18916    18930   18660 -0.008906\n",
       "5    AAPL 2023-07-10       18861  59922160  18926    18999  187035  0.002818"
      ]
     },
     "execution_count": 24,
     "metadata": {},
     "output_type": "execute_result"
    }
   ],
   "source": [
    "aapl.head()"
   ]
  },
  {
   "cell_type": "code",
   "execution_count": 25,
   "id": "9e7d39a0",
   "metadata": {},
   "outputs": [],
   "source": [
    "aapl.set_index('Date', inplace = True)"
   ]
  },
  {
   "cell_type": "code",
   "execution_count": 26,
   "id": "33ae2e3f",
   "metadata": {},
   "outputs": [
    {
     "data": {
      "text/html": [
       "<div>\n",
       "<style scoped>\n",
       "    .dataframe tbody tr th:only-of-type {\n",
       "        vertical-align: middle;\n",
       "    }\n",
       "\n",
       "    .dataframe tbody tr th {\n",
       "        vertical-align: top;\n",
       "    }\n",
       "\n",
       "    .dataframe thead th {\n",
       "        text-align: right;\n",
       "    }\n",
       "</style>\n",
       "<table border=\"1\" class=\"dataframe\">\n",
       "  <thead>\n",
       "    <tr style=\"text-align: right;\">\n",
       "      <th></th>\n",
       "      <th>Company</th>\n",
       "      <th>Close/Last</th>\n",
       "      <th>Volume</th>\n",
       "      <th>Open</th>\n",
       "      <th>High</th>\n",
       "      <th>Low</th>\n",
       "      <th>Returns</th>\n",
       "    </tr>\n",
       "    <tr>\n",
       "      <th>Date</th>\n",
       "      <th></th>\n",
       "      <th></th>\n",
       "      <th></th>\n",
       "      <th></th>\n",
       "      <th></th>\n",
       "      <th></th>\n",
       "      <th></th>\n",
       "    </tr>\n",
       "  </thead>\n",
       "  <tbody>\n",
       "    <tr>\n",
       "      <th>2023-07-14</th>\n",
       "      <td>AAPL</td>\n",
       "      <td>19069</td>\n",
       "      <td>41616240</td>\n",
       "      <td>19023</td>\n",
       "      <td>1911799</td>\n",
       "      <td>18963</td>\n",
       "      <td>-0.017011</td>\n",
       "    </tr>\n",
       "    <tr>\n",
       "      <th>2023-07-13</th>\n",
       "      <td>AAPL</td>\n",
       "      <td>19054</td>\n",
       "      <td>41342340</td>\n",
       "      <td>19050</td>\n",
       "      <td>19119</td>\n",
       "      <td>18978</td>\n",
       "      <td>-0.000787</td>\n",
       "    </tr>\n",
       "    <tr>\n",
       "      <th>2023-07-12</th>\n",
       "      <td>AAPL</td>\n",
       "      <td>18977</td>\n",
       "      <td>60750250</td>\n",
       "      <td>18968</td>\n",
       "      <td>19170</td>\n",
       "      <td>18847</td>\n",
       "      <td>-0.004041</td>\n",
       "    </tr>\n",
       "    <tr>\n",
       "      <th>2023-07-11</th>\n",
       "      <td>AAPL</td>\n",
       "      <td>18808</td>\n",
       "      <td>46638120</td>\n",
       "      <td>18916</td>\n",
       "      <td>18930</td>\n",
       "      <td>18660</td>\n",
       "      <td>-0.008906</td>\n",
       "    </tr>\n",
       "    <tr>\n",
       "      <th>2023-07-10</th>\n",
       "      <td>AAPL</td>\n",
       "      <td>18861</td>\n",
       "      <td>59922160</td>\n",
       "      <td>18926</td>\n",
       "      <td>18999</td>\n",
       "      <td>187035</td>\n",
       "      <td>0.002818</td>\n",
       "    </tr>\n",
       "  </tbody>\n",
       "</table>\n",
       "</div>"
      ],
      "text/plain": [
       "           Company  Close/Last    Volume   Open     High     Low   Returns\n",
       "Date                                                                      \n",
       "2023-07-14    AAPL       19069  41616240  19023  1911799   18963 -0.017011\n",
       "2023-07-13    AAPL       19054  41342340  19050    19119   18978 -0.000787\n",
       "2023-07-12    AAPL       18977  60750250  18968    19170   18847 -0.004041\n",
       "2023-07-11    AAPL       18808  46638120  18916    18930   18660 -0.008906\n",
       "2023-07-10    AAPL       18861  59922160  18926    18999  187035  0.002818"
      ]
     },
     "execution_count": 26,
     "metadata": {},
     "output_type": "execute_result"
    }
   ],
   "source": [
    "aapl.head()"
   ]
  },
  {
   "cell_type": "code",
   "execution_count": 27,
   "id": "613578d2",
   "metadata": {},
   "outputs": [
    {
     "data": {
      "text/plain": [
       "<AxesSubplot:xlabel='Returns'>"
      ]
     },
     "execution_count": 27,
     "metadata": {},
     "output_type": "execute_result"
    },
    {
     "data": {
      "image/png": "[encoded data removed]",
      "text/plain": [
       "<Figure size 432x288 with 1 Axes>"
      ]
     },
     "metadata": {},
     "output_type": "display_data"
    }
   ],
   "source": [
    "sns.distplot(aapl.loc['2022-01-03' : '2022-12-30']['Returns'], color = 'red', bins = 50)"
   ]
  },
  {
   "cell_type": "code",
   "execution_count": 28,
   "id": "1225f193",
   "metadata": {},
   "outputs": [
    {
     "ename": "KeyError",
     "evalue": "'Date'",
     "output_type": "error",
     "traceback": [
      "\u001b[1;31m---------------------------------------------------------------------------\u001b[0m",
      "\u001b[1;31mKeyError\u001b[0m                                  Traceback (most recent call last)",
      "File \u001b[1;32m~\\anaconda3\\lib\\site-packages\\pandas\\core\\indexes\\base.py:3621\u001b[0m, in \u001b[0;36mIndex.get_loc\u001b[1;34m(self, key, method, tolerance)\u001b[0m\n\u001b[0;32m   3620\u001b[0m \u001b[38;5;28;01mtry\u001b[39;00m:\n\u001b[1;32m-> 3621\u001b[0m     \u001b[38;5;28;01mreturn\u001b[39;00m \u001b[38;5;28;43mself\u001b[39;49m\u001b[38;5;241;43m.\u001b[39;49m\u001b[43m_engine\u001b[49m\u001b[38;5;241;43m.\u001b[39;49m\u001b[43mget_loc\u001b[49m\u001b[43m(\u001b[49m\u001b[43mcasted_key\u001b[49m\u001b[43m)\u001b[49m\n\u001b[0;32m   3622\u001b[0m \u001b[38;5;28;01mexcept\u001b[39;00m \u001b[38;5;167;01mKeyError\u001b[39;00m \u001b[38;5;28;01mas\u001b[39;00m err:\n",
      "File \u001b[1;32m~\\anaconda3\\lib\\site-packages\\pandas\\_libs\\index.pyx:136\u001b[0m, in \u001b[0;36mpandas._libs.index.IndexEngine.get_loc\u001b[1;34m()\u001b[0m\n",
      "File \u001b[1;32m~\\anaconda3\\lib\\site-packages\\pandas\\_libs\\index.pyx:163\u001b[0m, in \u001b[0;36mpandas._libs.index.IndexEngine.get_loc\u001b[1;34m()\u001b[0m\n",
      "File \u001b[1;32mpandas\\_libs\\hashtable_class_helper.pxi:5198\u001b[0m, in \u001b[0;36mpandas._libs.hashtable.PyObjectHashTable.get_item\u001b[1;34m()\u001b[0m\n",
      "File \u001b[1;32mpandas\\_libs\\hashtable_class_helper.pxi:5206\u001b[0m, in \u001b[0;36mpandas._libs.hashtable.PyObjectHashTable.get_item\u001b[1;34m()\u001b[0m\n",
      "\u001b[1;31mKeyError\u001b[0m: 'Date'",
      "\nThe above exception was the direct cause of the following exception:\n",
      "\u001b[1;31mKeyError\u001b[0m                                  Traceback (most recent call last)",
      "Input \u001b[1;32mIn [28]\u001b[0m, in \u001b[0;36m<cell line: 1>\u001b[1;34m()\u001b[0m\n\u001b[1;32m----> 1\u001b[0m aapl[\u001b[38;5;124m'\u001b[39m\u001b[38;5;124mYear\u001b[39m\u001b[38;5;124m'\u001b[39m] \u001b[38;5;241m=\u001b[39m \u001b[43maapl\u001b[49m\u001b[43m[\u001b[49m\u001b[38;5;124;43m'\u001b[39;49m\u001b[38;5;124;43mDate\u001b[39;49m\u001b[38;5;124;43m'\u001b[39;49m\u001b[43m]\u001b[49m\u001b[38;5;241m.\u001b[39mapply(\u001b[38;5;28;01mlambda\u001b[39;00m x : x\u001b[38;5;241m.\u001b[39myear)\n",
      "File \u001b[1;32m~\\anaconda3\\lib\\site-packages\\pandas\\core\\frame.py:3505\u001b[0m, in \u001b[0;36mDataFrame.__getitem__\u001b[1;34m(self, key)\u001b[0m\n\u001b[0;32m   3503\u001b[0m \u001b[38;5;28;01mif\u001b[39;00m \u001b[38;5;28mself\u001b[39m\u001b[38;5;241m.\u001b[39mcolumns\u001b[38;5;241m.\u001b[39mnlevels \u001b[38;5;241m>\u001b[39m \u001b[38;5;241m1\u001b[39m:\n\u001b[0;32m   3504\u001b[0m     \u001b[38;5;28;01mreturn\u001b[39;00m \u001b[38;5;28mself\u001b[39m\u001b[38;5;241m.\u001b[39m_getitem_multilevel(key)\n\u001b[1;32m-> 3505\u001b[0m indexer \u001b[38;5;241m=\u001b[39m \u001b[38;5;28;43mself\u001b[39;49m\u001b[38;5;241;43m.\u001b[39;49m\u001b[43mcolumns\u001b[49m\u001b[38;5;241;43m.\u001b[39;49m\u001b[43mget_loc\u001b[49m\u001b[43m(\u001b[49m\u001b[43mkey\u001b[49m\u001b[43m)\u001b[49m\n\u001b[0;32m   3506\u001b[0m \u001b[38;5;28;01mif\u001b[39;00m is_integer(indexer):\n\u001b[0;32m   3507\u001b[0m     indexer \u001b[38;5;241m=\u001b[39m [indexer]\n",
      "File \u001b[1;32m~\\anaconda3\\lib\\site-packages\\pandas\\core\\indexes\\base.py:3623\u001b[0m, in \u001b[0;36mIndex.get_loc\u001b[1;34m(self, key, method, tolerance)\u001b[0m\n\u001b[0;32m   3621\u001b[0m     \u001b[38;5;28;01mreturn\u001b[39;00m \u001b[38;5;28mself\u001b[39m\u001b[38;5;241m.\u001b[39m_engine\u001b[38;5;241m.\u001b[39mget_loc(casted_key)\n\u001b[0;32m   3622\u001b[0m \u001b[38;5;28;01mexcept\u001b[39;00m \u001b[38;5;167;01mKeyError\u001b[39;00m \u001b[38;5;28;01mas\u001b[39;00m err:\n\u001b[1;32m-> 3623\u001b[0m     \u001b[38;5;28;01mraise\u001b[39;00m \u001b[38;5;167;01mKeyError\u001b[39;00m(key) \u001b[38;5;28;01mfrom\u001b[39;00m \u001b[38;5;21;01merr\u001b[39;00m\n\u001b[0;32m   3624\u001b[0m \u001b[38;5;28;01mexcept\u001b[39;00m \u001b[38;5;167;01mTypeError\u001b[39;00m:\n\u001b[0;32m   3625\u001b[0m     \u001b[38;5;66;03m# If we have a listlike key, _check_indexing_error will raise\u001b[39;00m\n\u001b[0;32m   3626\u001b[0m     \u001b[38;5;66;03m#  InvalidIndexError. Otherwise we fall through and re-raise\u001b[39;00m\n\u001b[0;32m   3627\u001b[0m     \u001b[38;5;66;03m#  the TypeError.\u001b[39;00m\n\u001b[0;32m   3628\u001b[0m     \u001b[38;5;28mself\u001b[39m\u001b[38;5;241m.\u001b[39m_check_indexing_error(key)\n",
      "\u001b[1;31mKeyError\u001b[0m: 'Date'"
     ]
    }
   ],
   "source": [
    "aapl['Year'] = aapl['Date'].apply(lambda x : x.year)"
   ]
  },
  {
   "cell_type": "code",
   "execution_count": null,
   "id": "002f3404",
   "metadata": {},
   "outputs": [],
   "source": [
    "aapl.loc['2022-01-03' : '2022-12-30']['Returns'].plot(kind = 'line', stacked = False, lw = 2, figsize=(10,6))\n",
    "\n",
    "plt.title(\"2022 Returns for Apple\")"
   ]
  },
  {
   "cell_type": "code",
   "execution_count": null,
   "id": "1c4e2843",
   "metadata": {},
   "outputs": [],
   "source": [
    "aapl.groupby(by = 'Year')['Open'].max().plot(kind = 'line', color='coral', figsize=(10,6), ls='--')\n",
    "\n",
    "plt.title(\"Highest Opening Price of Apple per Year\")"
   ]
  },
  {
   "cell_type": "code",
   "execution_count": 29,
   "id": "3a397956",
   "metadata": {},
   "outputs": [
    {
     "data": {
      "text/html": [
       "<div>\n",
       "<style scoped>\n",
       "    .dataframe tbody tr th:only-of-type {\n",
       "        vertical-align: middle;\n",
       "    }\n",
       "\n",
       "    .dataframe tbody tr th {\n",
       "        vertical-align: top;\n",
       "    }\n",
       "\n",
       "    .dataframe thead th {\n",
       "        text-align: right;\n",
       "    }\n",
       "</style>\n",
       "<table border=\"1\" class=\"dataframe\">\n",
       "  <thead>\n",
       "    <tr style=\"text-align: right;\">\n",
       "      <th></th>\n",
       "      <th>Company</th>\n",
       "      <th>Date</th>\n",
       "      <th>Close/Last</th>\n",
       "      <th>Volume</th>\n",
       "      <th>Open</th>\n",
       "      <th>High</th>\n",
       "      <th>Low</th>\n",
       "      <th>Returns</th>\n",
       "    </tr>\n",
       "  </thead>\n",
       "  <tbody>\n",
       "    <tr>\n",
       "      <th>1</th>\n",
       "      <td>AAPL</td>\n",
       "      <td>2023-07-14</td>\n",
       "      <td>19069</td>\n",
       "      <td>41616240</td>\n",
       "      <td>19023</td>\n",
       "      <td>1911799</td>\n",
       "      <td>18963</td>\n",
       "      <td>-0.017011</td>\n",
       "    </tr>\n",
       "    <tr>\n",
       "      <th>2</th>\n",
       "      <td>AAPL</td>\n",
       "      <td>2023-07-13</td>\n",
       "      <td>19054</td>\n",
       "      <td>41342340</td>\n",
       "      <td>19050</td>\n",
       "      <td>19119</td>\n",
       "      <td>18978</td>\n",
       "      <td>-0.000787</td>\n",
       "    </tr>\n",
       "    <tr>\n",
       "      <th>3</th>\n",
       "      <td>AAPL</td>\n",
       "      <td>2023-07-12</td>\n",
       "      <td>18977</td>\n",
       "      <td>60750250</td>\n",
       "      <td>18968</td>\n",
       "      <td>19170</td>\n",
       "      <td>18847</td>\n",
       "      <td>-0.004041</td>\n",
       "    </tr>\n",
       "    <tr>\n",
       "      <th>4</th>\n",
       "      <td>AAPL</td>\n",
       "      <td>2023-07-11</td>\n",
       "      <td>18808</td>\n",
       "      <td>46638120</td>\n",
       "      <td>18916</td>\n",
       "      <td>18930</td>\n",
       "      <td>18660</td>\n",
       "      <td>-0.008906</td>\n",
       "    </tr>\n",
       "    <tr>\n",
       "      <th>5</th>\n",
       "      <td>AAPL</td>\n",
       "      <td>2023-07-10</td>\n",
       "      <td>18861</td>\n",
       "      <td>59922160</td>\n",
       "      <td>18926</td>\n",
       "      <td>18999</td>\n",
       "      <td>187035</td>\n",
       "      <td>0.002818</td>\n",
       "    </tr>\n",
       "  </tbody>\n",
       "</table>\n",
       "</div>"
      ],
      "text/plain": [
       "  Company       Date  Close/Last    Volume   Open     High     Low   Returns\n",
       "1    AAPL 2023-07-14       19069  41616240  19023  1911799   18963 -0.017011\n",
       "2    AAPL 2023-07-13       19054  41342340  19050    19119   18978 -0.000787\n",
       "3    AAPL 2023-07-12       18977  60750250  18968    19170   18847 -0.004041\n",
       "4    AAPL 2023-07-11       18808  46638120  18916    18930   18660 -0.008906\n",
       "5    AAPL 2023-07-10       18861  59922160  18926    18999  187035  0.002818"
      ]
     },
     "execution_count": 29,
     "metadata": {},
     "output_type": "execute_result"
    }
   ],
   "source": [
    "df.head()"
   ]
  },
  {
   "cell_type": "code",
   "execution_count": 30,
   "id": "8a46ccff",
   "metadata": {},
   "outputs": [],
   "source": [
    "df['Year'] = df['Date'].apply(lambda x : x.year)"
   ]
  },
  {
   "cell_type": "code",
   "execution_count": 31,
   "id": "a34734b1",
   "metadata": {},
   "outputs": [],
   "source": [
    "df.set_index('Date', inplace = True)"
   ]
  },
  {
   "cell_type": "code",
   "execution_count": 32,
   "id": "cb9a1e79",
   "metadata": {},
   "outputs": [
    {
     "data": {
      "text/html": [
       "<div>\n",
       "<style scoped>\n",
       "    .dataframe tbody tr th:only-of-type {\n",
       "        vertical-align: middle;\n",
       "    }\n",
       "\n",
       "    .dataframe tbody tr th {\n",
       "        vertical-align: top;\n",
       "    }\n",
       "\n",
       "    .dataframe thead th {\n",
       "        text-align: right;\n",
       "    }\n",
       "</style>\n",
       "<table border=\"1\" class=\"dataframe\">\n",
       "  <thead>\n",
       "    <tr style=\"text-align: right;\">\n",
       "      <th></th>\n",
       "      <th>Company</th>\n",
       "      <th>Close/Last</th>\n",
       "      <th>Volume</th>\n",
       "      <th>Open</th>\n",
       "      <th>High</th>\n",
       "      <th>Low</th>\n",
       "      <th>Returns</th>\n",
       "      <th>Year</th>\n",
       "    </tr>\n",
       "    <tr>\n",
       "      <th>Date</th>\n",
       "      <th></th>\n",
       "      <th></th>\n",
       "      <th></th>\n",
       "      <th></th>\n",
       "      <th></th>\n",
       "      <th></th>\n",
       "      <th></th>\n",
       "      <th></th>\n",
       "    </tr>\n",
       "  </thead>\n",
       "  <tbody>\n",
       "    <tr>\n",
       "      <th>2023-07-14</th>\n",
       "      <td>AAPL</td>\n",
       "      <td>19069</td>\n",
       "      <td>41616240</td>\n",
       "      <td>19023</td>\n",
       "      <td>1911799</td>\n",
       "      <td>18963</td>\n",
       "      <td>-0.017011</td>\n",
       "      <td>2023</td>\n",
       "    </tr>\n",
       "    <tr>\n",
       "      <th>2023-07-13</th>\n",
       "      <td>AAPL</td>\n",
       "      <td>19054</td>\n",
       "      <td>41342340</td>\n",
       "      <td>19050</td>\n",
       "      <td>19119</td>\n",
       "      <td>18978</td>\n",
       "      <td>-0.000787</td>\n",
       "      <td>2023</td>\n",
       "    </tr>\n",
       "    <tr>\n",
       "      <th>2023-07-12</th>\n",
       "      <td>AAPL</td>\n",
       "      <td>18977</td>\n",
       "      <td>60750250</td>\n",
       "      <td>18968</td>\n",
       "      <td>19170</td>\n",
       "      <td>18847</td>\n",
       "      <td>-0.004041</td>\n",
       "      <td>2023</td>\n",
       "    </tr>\n",
       "    <tr>\n",
       "      <th>2023-07-11</th>\n",
       "      <td>AAPL</td>\n",
       "      <td>18808</td>\n",
       "      <td>46638120</td>\n",
       "      <td>18916</td>\n",
       "      <td>18930</td>\n",
       "      <td>18660</td>\n",
       "      <td>-0.008906</td>\n",
       "      <td>2023</td>\n",
       "    </tr>\n",
       "    <tr>\n",
       "      <th>2023-07-10</th>\n",
       "      <td>AAPL</td>\n",
       "      <td>18861</td>\n",
       "      <td>59922160</td>\n",
       "      <td>18926</td>\n",
       "      <td>18999</td>\n",
       "      <td>187035</td>\n",
       "      <td>0.002818</td>\n",
       "      <td>2023</td>\n",
       "    </tr>\n",
       "  </tbody>\n",
       "</table>\n",
       "</div>"
      ],
      "text/plain": [
       "           Company  Close/Last    Volume   Open     High     Low   Returns  \\\n",
       "Date                                                                         \n",
       "2023-07-14    AAPL       19069  41616240  19023  1911799   18963 -0.017011   \n",
       "2023-07-13    AAPL       19054  41342340  19050    19119   18978 -0.000787   \n",
       "2023-07-12    AAPL       18977  60750250  18968    19170   18847 -0.004041   \n",
       "2023-07-11    AAPL       18808  46638120  18916    18930   18660 -0.008906   \n",
       "2023-07-10    AAPL       18861  59922160  18926    18999  187035  0.002818   \n",
       "\n",
       "            Year  \n",
       "Date              \n",
       "2023-07-14  2023  \n",
       "2023-07-13  2023  \n",
       "2023-07-12  2023  \n",
       "2023-07-11  2023  \n",
       "2023-07-10  2023  "
      ]
     },
     "execution_count": 32,
     "metadata": {},
     "output_type": "execute_result"
    }
   ],
   "source": [
    "df.head()"
   ]
  },
  {
   "cell_type": "code",
   "execution_count": 33,
   "id": "36332bd3",
   "metadata": {},
   "outputs": [
    {
     "data": {
      "text/plain": [
       "<AxesSubplot:xlabel='Company'>"
      ]
     },
     "execution_count": 33,
     "metadata": {},
     "output_type": "execute_result"
    },
    {
     "data": {
      "image/png": "[encoded data removed]",
      "text/plain": [
       "<Figure size 432x288 with 1 Axes>"
      ]
     },
     "metadata": {},
     "output_type": "display_data"
    }
   ],
   "source": [
    "df.groupby(by = 'Company')['Open'].max().plot()"
   ]
  },
  {
   "cell_type": "code",
   "execution_count": 34,
   "id": "5e0ccd85",
   "metadata": {},
   "outputs": [],
   "source": [
    "tickers = list(map(str, ['AAPL', 'SBUX', 'MSFT']))"
   ]
  },
  {
   "cell_type": "code",
   "execution_count": 35,
   "id": "ebf4dfe5",
   "metadata": {},
   "outputs": [
    {
     "data": {
      "text/plain": [
       "['AAPL', 'SBUX', 'MSFT']"
      ]
     },
     "execution_count": 35,
     "metadata": {},
     "output_type": "execute_result"
    }
   ],
   "source": [
    "tickers"
   ]
  },
  {
   "cell_type": "code",
   "execution_count": 36,
   "id": "c2eca144",
   "metadata": {},
   "outputs": [
    {
     "data": {
      "text/plain": [
       "<matplotlib.legend.Legend at 0x23384434340>"
      ]
     },
     "execution_count": 36,
     "metadata": {},
     "output_type": "execute_result"
    },
    {
     "data": {
      "image/png": "[encoded data removed]",
      "text/plain": [
       "<Figure size 864x576 with 1 Axes>"
      ]
     },
     "metadata": {},
     "output_type": "display_data"
    }
   ],
   "source": [
    "for tick in tickers:\n",
    "    df[df['Company']==tick]['Open'].plot(figsize=(12,8), label = tick)\n",
    "    \n",
    "plt.legend()"
   ]
  },
  {
   "cell_type": "code",
   "execution_count": 37,
   "id": "22763dbe",
   "metadata": {},
   "outputs": [
    {
     "data": {
      "text/plain": [
       "174745"
      ]
     },
     "execution_count": 37,
     "metadata": {},
     "output_type": "execute_result"
    }
   ],
   "source": [
    "df[(df['Company'] == 'AAPL') & (df['Year'] == 2022)]['Open'].max()"
   ]
  },
  {
   "cell_type": "code",
   "execution_count": 38,
   "id": "454cab77",
   "metadata": {},
   "outputs": [
    {
     "data": {
      "text/html": [
       "        <script type=\"text/javascript\">\n",
       "        window.PlotlyConfig = {MathJaxConfig: 'local'};\n",
       "        if (window.MathJax) {MathJax.Hub.Config({SVG: {font: \"STIX-Web\"}});}\n",
       "        if (typeof require !== 'undefined') {\n",
       "        require.undef(\"plotly\");\n",
       "        requirejs.config({\n",
       "            paths: {\n",
       "                'plotly': ['https://cdn.plot.ly/plotly-2.4.2.min']\n",
       "            }\n",
       "        });\n",
       "        require(['plotly'], function(Plotly) {\n",
       "            window._Plotly = Plotly;\n",
       "        });\n",
       "        }\n",
       "        </script>\n",
       "        "
      ]
     },
     "metadata": {},
     "output_type": "display_data"
    }
   ],
   "source": [
    "import plotly\n",
    "import cufflinks as cf\n",
    "cf.go_offline()"
   ]
  },
  {
   "cell_type": "code",
   "execution_count": 39,
   "id": "3de37c7c",
   "metadata": {},
   "outputs": [],
   "source": [
    "max_open = pd.DataFrame(df.groupby(by= ['Company', 'Year'])['Open'].max())"
   ]
  },
  {
   "cell_type": "code",
   "execution_count": 40,
   "id": "d619093a",
   "metadata": {},
   "outputs": [],
   "source": [
    "max_open.reset_index(inplace=True)"
   ]
  },
  {
   "cell_type": "code",
   "execution_count": 41,
   "id": "6619d83e",
   "metadata": {},
   "outputs": [
    {
     "data": {
      "application/vnd.plotly.v1+json": {
       "config": {
        "linkText": "Export to plot.ly",
        "plotlyServerURL": "https://plot.ly",
        "showLink": true
       },
       "data": [
        {
         "line": {
          "color": "rgba(255, 153, 51, 1.0)",
          "dash": "solid",
          "shape": "linear",
          "width": 1.3
         },
         "mode": "lines",
         "name": "Open",
         "text": "",
         "type": "scatter",
         "x": [
          "AAPL",
          "AMD",
          "AMZN",
          "CSCO",
          "META",
          "MSFT",
          "NFLX",
          "QCOM",
          "SBUX",
          "TSLA"
         ],
         "y": [
          174745,
          145135,
          1685095,
          61595,
          2956204,
          320466,
          400425,
          1764447,
          108215,
          3965166
         ]
        }
       ],
       "layout": {
        "legend": {
         "bgcolor": "#F5F6F9",
         "font": {
          "color": "#4D5663"
         }
        },
        "paper_bgcolor": "#F5F6F9",
        "plot_bgcolor": "#F5F6F9",
        "template": {
         "data": {
          "bar": [
           {
            "error_x": {
             "color": "#2a3f5f"
            },
            "error_y": {
             "color": "#2a3f5f"
            },
            "marker": {
             "line": {
              "color": "#E5ECF6",
              "width": 0.5
             },
             "pattern": {
              "fillmode": "overlay",
              "size": 10,
              "solidity": 0.2
             }
            },
            "type": "bar"
           }
          ],
          "barpolar": [
           {
            "marker": {
             "line": {
              "color": "#E5ECF6",
              "width": 0.5
             },
             "pattern": {
              "fillmode": "overlay",
              "size": 10,
              "solidity": 0.2
             }
            },
            "type": "barpolar"
           }
          ],
          "carpet": [
           {
            "aaxis": {
             "endlinecolor": "#2a3f5f",
             "gridcolor": "white",
             "linecolor": "white",
             "minorgridcolor": "white",
             "startlinecolor": "#2a3f5f"
            },
            "baxis": {
             "endlinecolor": "#2a3f5f",
             "gridcolor": "white",
             "linecolor": "white",
             "minorgridcolor": "white",
             "startlinecolor": "#2a3f5f"
            },
            "type": "carpet"
           }
          ],
          "choropleth": [
           {
            "colorbar": {
             "outlinewidth": 0,
             "ticks": ""
            },
            "type": "choropleth"
           }
          ],
          "contour": [
           {
            "colorbar": {
             "outlinewidth": 0,
             "ticks": ""
            },
            "colorscale": [
             [
              0,
              "#0d0887"
             ],
             [
              0.1111111111111111,
              "#46039f"
             ],
             [
              0.2222222222222222,
              "#7201a8"
             ],
             [
              0.3333333333333333,
              "#9c179e"
             ],
             [
              0.4444444444444444,
              "#bd3786"
             ],
             [
              0.5555555555555556,
              "#d8576b"
             ],
             [
              0.6666666666666666,
              "#ed7953"
             ],
             [
              0.7777777777777778,
              "#fb9f3a"
             ],
             [
              0.8888888888888888,
              "#fdca26"
             ],
             [
              1,
              "#f0f921"
             ]
            ],
            "type": "contour"
           }
          ],
          "contourcarpet": [
           {
            "colorbar": {
             "outlinewidth": 0,
             "ticks": ""
            },
            "type": "contourcarpet"
           }
          ],
          "heatmap": [
           {
            "colorbar": {
             "outlinewidth": 0,
             "ticks": ""
            },
            "colorscale": [
             [
              0,
              "#0d0887"
             ],
             [
              0.1111111111111111,
              "#46039f"
             ],
             [
              0.2222222222222222,
              "#7201a8"
             ],
             [
              0.3333333333333333,
              "#9c179e"
             ],
             [
              0.4444444444444444,
              "#bd3786"
             ],
             [
              0.5555555555555556,
              "#d8576b"
             ],
             [
              0.6666666666666666,
              "#ed7953"
             ],
             [
              0.7777777777777778,
              "#fb9f3a"
             ],
             [
              0.8888888888888888,
              "#fdca26"
             ],
             [
              1,
              "#f0f921"
             ]
            ],
            "type": "heatmap"
           }
          ],
          "heatmapgl": [
           {
            "colorbar": {
             "outlinewidth": 0,
             "ticks": ""
            },
            "colorscale": [
             [
              0,
              "#0d0887"
             ],
             [
              0.1111111111111111,
              "#46039f"
             ],
             [
              0.2222222222222222,
              "#7201a8"
             ],
             [
              0.3333333333333333,
              "#9c179e"
             ],
             [
              0.4444444444444444,
              "#bd3786"
             ],
             [
              0.5555555555555556,
              "#d8576b"
             ],
             [
              0.6666666666666666,
              "#ed7953"
             ],
             [
              0.7777777777777778,
              "#fb9f3a"
             ],
             [
              0.8888888888888888,
              "#fdca26"
             ],
             [
              1,
              "#f0f921"
             ]
            ],
            "type": "heatmapgl"
           }
          ],
          "histogram": [
           {
            "marker": {
             "pattern": {
              "fillmode": "overlay",
              "size": 10,
              "solidity": 0.2
             }
            },
            "type": "histogram"
           }
          ],
          "histogram2d": [
           {
            "colorbar": {
             "outlinewidth": 0,
             "ticks": ""
            },
            "colorscale": [
             [
              0,
              "#0d0887"
             ],
             [
              0.1111111111111111,
              "#46039f"
             ],
             [
              0.2222222222222222,
              "#7201a8"
             ],
             [
              0.3333333333333333,
              "#9c179e"
             ],
             [
              0.4444444444444444,
              "#bd3786"
             ],
             [
              0.5555555555555556,
              "#d8576b"
             ],
             [
              0.6666666666666666,
              "#ed7953"
             ],
             [
              0.7777777777777778,
              "#fb9f3a"
             ],
             [
              0.8888888888888888,
              "#fdca26"
             ],
             [
              1,
              "#f0f921"
             ]
            ],
            "type": "histogram2d"
           }
          ],
          "histogram2dcontour": [
           {
            "colorbar": {
             "outlinewidth": 0,
             "ticks": ""
            },
            "colorscale": [
             [
              0,
              "#0d0887"
             ],
             [
              0.1111111111111111,
              "#46039f"
             ],
             [
              0.2222222222222222,
              "#7201a8"
             ],
             [
              0.3333333333333333,
              "#9c179e"
             ],
             [
              0.4444444444444444,
              "#bd3786"
             ],
             [
              0.5555555555555556,
              "#d8576b"
             ],
             [
              0.6666666666666666,
              "#ed7953"
             ],
             [
              0.7777777777777778,
              "#fb9f3a"
             ],
             [
              0.8888888888888888,
              "#fdca26"
             ],
             [
              1,
              "#f0f921"
             ]
            ],
            "type": "histogram2dcontour"
           }
          ],
          "mesh3d": [
           {
            "colorbar": {
             "outlinewidth": 0,
             "ticks": ""
            },
            "type": "mesh3d"
           }
          ],
          "parcoords": [
           {
            "line": {
             "colorbar": {
              "outlinewidth": 0,
              "ticks": ""
             }
            },
            "type": "parcoords"
           }
          ],
          "pie": [
           {
            "automargin": true,
            "type": "pie"
           }
          ],
          "scatter": [
           {
            "marker": {
             "colorbar": {
              "outlinewidth": 0,
              "ticks": ""
             }
            },
            "type": "scatter"
           }
          ],
          "scatter3d": [
           {
            "line": {
             "colorbar": {
              "outlinewidth": 0,
              "ticks": ""
             }
            },
            "marker": {
             "colorbar": {
              "outlinewidth": 0,
              "ticks": ""
             }
            },
            "type": "scatter3d"
           }
          ],
          "scattercarpet": [
           {
            "marker": {
             "colorbar": {
              "outlinewidth": 0,
              "ticks": ""
             }
            },
            "type": "scattercarpet"
           }
          ],
          "scattergeo": [
           {
            "marker": {
             "colorbar": {
              "outlinewidth": 0,
              "ticks": ""
             }
            },
            "type": "scattergeo"
           }
          ],
          "scattergl": [
           {
            "marker": {
             "colorbar": {
              "outlinewidth": 0,
              "ticks": ""
             }
            },
            "type": "scattergl"
           }
          ],
          "scattermapbox": [
           {
            "marker": {
             "colorbar": {
              "outlinewidth": 0,
              "ticks": ""
             }
            },
            "type": "scattermapbox"
           }
          ],
          "scatterpolar": [
           {
            "marker": {
             "colorbar": {
              "outlinewidth": 0,
              "ticks": ""
             }
            },
            "type": "scatterpolar"
           }
          ],
          "scatterpolargl": [
           {
            "marker": {
             "colorbar": {
              "outlinewidth": 0,
              "ticks": ""
             }
            },
            "type": "scatterpolargl"
           }
          ],
          "scatterternary": [
           {
            "marker": {
             "colorbar": {
              "outlinewidth": 0,
              "ticks": ""
             }
            },
            "type": "scatterternary"
           }
          ],
          "surface": [
           {
            "colorbar": {
             "outlinewidth": 0,
             "ticks": ""
            },
            "colorscale": [
             [
              0,
              "#0d0887"
             ],
             [
              0.1111111111111111,
              "#46039f"
             ],
             [
              0.2222222222222222,
              "#7201a8"
             ],
             [
              0.3333333333333333,
              "#9c179e"
             ],
             [
              0.4444444444444444,
              "#bd3786"
             ],
             [
              0.5555555555555556,
              "#d8576b"
             ],
             [
              0.6666666666666666,
              "#ed7953"
             ],
             [
              0.7777777777777778,
              "#fb9f3a"
             ],
             [
              0.8888888888888888,
              "#fdca26"
             ],
             [
              1,
              "#f0f921"
             ]
            ],
            "type": "surface"
           }
          ],
          "table": [
           {
            "cells": {
             "fill": {
              "color": "#EBF0F8"
             },
             "line": {
              "color": "white"
             }
            },
            "header": {
             "fill": {
              "color": "#C8D4E3"
             },
             "line": {
              "color": "white"
             }
            },
            "type": "table"
           }
          ]
         },
         "layout": {
          "annotationdefaults": {
           "arrowcolor": "#2a3f5f",
           "arrowhead": 0,
           "arrowwidth": 1
          },
          "autotypenumbers": "strict",
          "coloraxis": {
           "colorbar": {
            "outlinewidth": 0,
            "ticks": ""
           }
          },
          "colorscale": {
           "diverging": [
            [
             0,
             "#8e0152"
            ],
            [
             0.1,
             "#c51b7d"
            ],
            [
             0.2,
             "#de77ae"
            ],
            [
             0.3,
             "#f1b6da"
            ],
            [
             0.4,
             "#fde0ef"
            ],
            [
             0.5,
             "#f7f7f7"
            ],
            [
             0.6,
             "#e6f5d0"
            ],
            [
             0.7,
             "#b8e186"
            ],
            [
             0.8,
             "#7fbc41"
            ],
            [
             0.9,
             "#4d9221"
            ],
            [
             1,
             "#276419"
            ]
           ],
           "sequential": [
            [
             0,
             "#0d0887"
            ],
            [
             0.1111111111111111,
             "#46039f"
            ],
            [
             0.2222222222222222,
             "#7201a8"
            ],
            [
             0.3333333333333333,
             "#9c179e"
            ],
            [
             0.4444444444444444,
             "#bd3786"
            ],
            [
             0.5555555555555556,
             "#d8576b"
            ],
            [
             0.6666666666666666,
             "#ed7953"
            ],
            [
             0.7777777777777778,
             "#fb9f3a"
            ],
            [
             0.8888888888888888,
             "#fdca26"
            ],
            [
             1,
             "#f0f921"
            ]
           ],
           "sequentialminus": [
            [
             0,
             "#0d0887"
            ],
            [
             0.1111111111111111,
             "#46039f"
            ],
            [
             0.2222222222222222,
             "#7201a8"
            ],
            [
             0.3333333333333333,
             "#9c179e"
            ],
            [
             0.4444444444444444,
             "#bd3786"
            ],
            [
             0.5555555555555556,
             "#d8576b"
            ],
            [
             0.6666666666666666,
             "#ed7953"
            ],
            [
             0.7777777777777778,
             "#fb9f3a"
            ],
            [
             0.8888888888888888,
             "#fdca26"
            ],
            [
             1,
             "#f0f921"
            ]
           ]
          },
          "colorway": [
           "#636efa",
           "#EF553B",
           "#00cc96",
           "#ab63fa",
           "#FFA15A",
           "#19d3f3",
           "#FF6692",
           "#B6E880",
           "#FF97FF",
           "#FECB52"
          ],
          "font": {
           "color": "#2a3f5f"
          },
          "geo": {
           "bgcolor": "white",
           "lakecolor": "white",
           "landcolor": "#E5ECF6",
           "showlakes": true,
           "showland": true,
           "subunitcolor": "white"
          },
          "hoverlabel": {
           "align": "left"
          },
          "hovermode": "closest",
          "mapbox": {
           "style": "light"
          },
          "paper_bgcolor": "white",
          "plot_bgcolor": "#E5ECF6",
          "polar": {
           "angularaxis": {
            "gridcolor": "white",
            "linecolor": "white",
            "ticks": ""
           },
           "bgcolor": "#E5ECF6",
           "radialaxis": {
            "gridcolor": "white",
            "linecolor": "white",
            "ticks": ""
           }
          },
          "scene": {
           "xaxis": {
            "backgroundcolor": "#E5ECF6",
            "gridcolor": "white",
            "gridwidth": 2,
            "linecolor": "white",
            "showbackground": true,
            "ticks": "",
            "zerolinecolor": "white"
           },
           "yaxis": {
            "backgroundcolor": "#E5ECF6",
            "gridcolor": "white",
            "gridwidth": 2,
            "linecolor": "white",
            "showbackground": true,
            "ticks": "",
            "zerolinecolor": "white"
           },
           "zaxis": {
            "backgroundcolor": "#E5ECF6",
            "gridcolor": "white",
            "gridwidth": 2,
            "linecolor": "white",
            "showbackground": true,
            "ticks": "",
            "zerolinecolor": "white"
           }
          },
          "shapedefaults": {
           "line": {
            "color": "#2a3f5f"
           }
          },
          "ternary": {
           "aaxis": {
            "gridcolor": "white",
            "linecolor": "white",
            "ticks": ""
           },
           "baxis": {
            "gridcolor": "white",
            "linecolor": "white",
            "ticks": ""
           },
           "bgcolor": "#E5ECF6",
           "caxis": {
            "gridcolor": "white",
            "linecolor": "white",
            "ticks": ""
           }
          },
          "title": {
           "x": 0.05
          },
          "xaxis": {
           "automargin": true,
           "gridcolor": "white",
           "linecolor": "white",
           "ticks": "",
           "title": {
            "standoff": 15
           },
           "zerolinecolor": "white",
           "zerolinewidth": 2
          },
          "yaxis": {
           "automargin": true,
           "gridcolor": "white",
           "linecolor": "white",
           "ticks": "",
           "title": {
            "standoff": 15
           },
           "zerolinecolor": "white",
           "zerolinewidth": 2
          }
         }
        },
        "title": {
         "font": {
          "color": "#4D5663"
         },
         "text": "Highest Opening Price for Companies in 2022"
        },
        "xaxis": {
         "gridcolor": "#E1E5ED",
         "showgrid": true,
         "tickfont": {
          "color": "#4D5663"
         },
         "title": {
          "font": {
           "color": "#4D5663"
          },
          "text": ""
         },
         "zerolinecolor": "#E1E5ED"
        },
        "yaxis": {
         "gridcolor": "#E1E5ED",
         "showgrid": true,
         "tickfont": {
          "color": "#4D5663"
         },
         "title": {
          "font": {
           "color": "#4D5663"
          },
          "text": ""
         },
         "zerolinecolor": "#E1E5ED"
        }
       }
      },
      "text/html": [
       "<div>                            <div id=\"659c770c-4d7a-4fdd-b41c-6657eb0ad0bd\" class=\"plotly-graph-div\" style=\"height:525px; width:100%;\"></div>            <script type=\"text/javascript\">                require([\"plotly\"], function(Plotly) {                    window.PLOTLYENV=window.PLOTLYENV || {};\n",
       "                    window.PLOTLYENV.BASE_URL='https://plot.ly';                                    if (document.getElementById(\"659c770c-4d7a-4fdd-b41c-6657eb0ad0bd\")) {                    Plotly.newPlot(                        \"659c770c-4d7a-4fdd-b41c-6657eb0ad0bd\",                        [{\"line\":{\"color\":\"rgba(255, 153, 51, 1.0)\",\"dash\":\"solid\",\"shape\":\"linear\",\"width\":1.3},\"mode\":\"lines\",\"name\":\"Open\",\"text\":\"\",\"type\":\"scatter\",\"x\":[\"AAPL\",\"AMD\",\"AMZN\",\"CSCO\",\"META\",\"MSFT\",\"NFLX\",\"QCOM\",\"SBUX\",\"TSLA\"],\"y\":[174745,145135,1685095,61595,2956204,320466,400425,1764447,108215,3965166]}],                        {\"legend\":{\"bgcolor\":\"#F5F6F9\",\"font\":{\"color\":\"#4D5663\"}},\"paper_bgcolor\":\"#F5F6F9\",\"plot_bgcolor\":\"#F5F6F9\",\"template\":{\"data\":{\"bar\":[{\"error_x\":{\"color\":\"#2a3f5f\"},\"error_y\":{\"color\":\"#2a3f5f\"},\"marker\":{\"line\":{\"color\":\"#E5ECF6\",\"width\":0.5},\"pattern\":{\"fillmode\":\"overlay\",\"size\":10,\"solidity\":0.2}},\"type\":\"bar\"}],\"barpolar\":[{\"marker\":{\"line\":{\"color\":\"#E5ECF6\",\"width\":0.5},\"pattern\":{\"fillmode\":\"overlay\",\"size\":10,\"solidity\":0.2}},\"type\":\"barpolar\"}],\"carpet\":[{\"aaxis\":{\"endlinecolor\":\"#2a3f5f\",\"gridcolor\":\"white\",\"linecolor\":\"white\",\"minorgridcolor\":\"white\",\"startlinecolor\":\"#2a3f5f\"},\"baxis\":{\"endlinecolor\":\"#2a3f5f\",\"gridcolor\":\"white\",\"linecolor\":\"white\",\"minorgridcolor\":\"white\",\"startlinecolor\":\"#2a3f5f\"},\"type\":\"carpet\"}],\"choropleth\":[{\"colorbar\":{\"outlinewidth\":0,\"ticks\":\"\"},\"type\":\"choropleth\"}],\"contour\":[{\"colorbar\":{\"outlinewidth\":0,\"ticks\":\"\"},\"colorscale\":[[0.0,\"#0d0887\"],[0.1111111111111111,\"#46039f\"],[0.2222222222222222,\"#7201a8\"],[0.3333333333333333,\"#9c179e\"],[0.4444444444444444,\"#bd3786\"],[0.5555555555555556,\"#d8576b\"],[0.6666666666666666,\"#ed7953\"],[0.7777777777777778,\"#fb9f3a\"],[0.8888888888888888,\"#fdca26\"],[1.0,\"#f0f921\"]],\"type\":\"contour\"}],\"contourcarpet\":[{\"colorbar\":{\"outlinewidth\":0,\"ticks\":\"\"},\"type\":\"contourcarpet\"}],\"heatmap\":[{\"colorbar\":{\"outlinewidth\":0,\"ticks\":\"\"},\"colorscale\":[[0.0,\"#0d0887\"],[0.1111111111111111,\"#46039f\"],[0.2222222222222222,\"#7201a8\"],[0.3333333333333333,\"#9c179e\"],[0.4444444444444444,\"#bd3786\"],[0.5555555555555556,\"#d8576b\"],[0.6666666666666666,\"#ed7953\"],[0.7777777777777778,\"#fb9f3a\"],[0.8888888888888888,\"#fdca26\"],[1.0,\"#f0f921\"]],\"type\":\"heatmap\"}],\"heatmapgl\":[{\"colorbar\":{\"outlinewidth\":0,\"ticks\":\"\"},\"colorscale\":[[0.0,\"#0d0887\"],[0.1111111111111111,\"#46039f\"],[0.2222222222222222,\"#7201a8\"],[0.3333333333333333,\"#9c179e\"],[0.4444444444444444,\"#bd3786\"],[0.5555555555555556,\"#d8576b\"],[0.6666666666666666,\"#ed7953\"],[0.7777777777777778,\"#fb9f3a\"],[0.8888888888888888,\"#fdca26\"],[1.0,\"#f0f921\"]],\"type\":\"heatmapgl\"}],\"histogram\":[{\"marker\":{\"pattern\":{\"fillmode\":\"overlay\",\"size\":10,\"solidity\":0.2}},\"type\":\"histogram\"}],\"histogram2d\":[{\"colorbar\":{\"outlinewidth\":0,\"ticks\":\"\"},\"colorscale\":[[0.0,\"#0d0887\"],[0.1111111111111111,\"#46039f\"],[0.2222222222222222,\"#7201a8\"],[0.3333333333333333,\"#9c179e\"],[0.4444444444444444,\"#bd3786\"],[0.5555555555555556,\"#d8576b\"],[0.6666666666666666,\"#ed7953\"],[0.7777777777777778,\"#fb9f3a\"],[0.8888888888888888,\"#fdca26\"],[1.0,\"#f0f921\"]],\"type\":\"histogram2d\"}],\"histogram2dcontour\":[{\"colorbar\":{\"outlinewidth\":0,\"ticks\":\"\"},\"colorscale\":[[0.0,\"#0d0887\"],[0.1111111111111111,\"#46039f\"],[0.2222222222222222,\"#7201a8\"],[0.3333333333333333,\"#9c179e\"],[0.4444444444444444,\"#bd3786\"],[0.5555555555555556,\"#d8576b\"],[0.6666666666666666,\"#ed7953\"],[0.7777777777777778,\"#fb9f3a\"],[0.8888888888888888,\"#fdca26\"],[1.0,\"#f0f921\"]],\"type\":\"histogram2dcontour\"}],\"mesh3d\":[{\"colorbar\":{\"outlinewidth\":0,\"ticks\":\"\"},\"type\":\"mesh3d\"}],\"parcoords\":[{\"line\":{\"colorbar\":{\"outlinewidth\":0,\"ticks\":\"\"}},\"type\":\"parcoords\"}],\"pie\":[{\"automargin\":true,\"type\":\"pie\"}],\"scatter\":[{\"marker\":{\"colorbar\":{\"outlinewidth\":0,\"ticks\":\"\"}},\"type\":\"scatter\"}],\"scatter3d\":[{\"line\":{\"colorbar\":{\"outlinewidth\":0,\"ticks\":\"\"}},\"marker\":{\"colorbar\":{\"outlinewidth\":0,\"ticks\":\"\"}},\"type\":\"scatter3d\"}],\"scattercarpet\":[{\"marker\":{\"colorbar\":{\"outlinewidth\":0,\"ticks\":\"\"}},\"type\":\"scattercarpet\"}],\"scattergeo\":[{\"marker\":{\"colorbar\":{\"outlinewidth\":0,\"ticks\":\"\"}},\"type\":\"scattergeo\"}],\"scattergl\":[{\"marker\":{\"colorbar\":{\"outlinewidth\":0,\"ticks\":\"\"}},\"type\":\"scattergl\"}],\"scattermapbox\":[{\"marker\":{\"colorbar\":{\"outlinewidth\":0,\"ticks\":\"\"}},\"type\":\"scattermapbox\"}],\"scatterpolar\":[{\"marker\":{\"colorbar\":{\"outlinewidth\":0,\"ticks\":\"\"}},\"type\":\"scatterpolar\"}],\"scatterpolargl\":[{\"marker\":{\"colorbar\":{\"outlinewidth\":0,\"ticks\":\"\"}},\"type\":\"scatterpolargl\"}],\"scatterternary\":[{\"marker\":{\"colorbar\":{\"outlinewidth\":0,\"ticks\":\"\"}},\"type\":\"scatterternary\"}],\"surface\":[{\"colorbar\":{\"outlinewidth\":0,\"ticks\":\"\"},\"colorscale\":[[0.0,\"#0d0887\"],[0.1111111111111111,\"#46039f\"],[0.2222222222222222,\"#7201a8\"],[0.3333333333333333,\"#9c179e\"],[0.4444444444444444,\"#bd3786\"],[0.5555555555555556,\"#d8576b\"],[0.6666666666666666,\"#ed7953\"],[0.7777777777777778,\"#fb9f3a\"],[0.8888888888888888,\"#fdca26\"],[1.0,\"#f0f921\"]],\"type\":\"surface\"}],\"table\":[{\"cells\":{\"fill\":{\"color\":\"#EBF0F8\"},\"line\":{\"color\":\"white\"}},\"header\":{\"fill\":{\"color\":\"#C8D4E3\"},\"line\":{\"color\":\"white\"}},\"type\":\"table\"}]},\"layout\":{\"annotationdefaults\":{\"arrowcolor\":\"#2a3f5f\",\"arrowhead\":0,\"arrowwidth\":1},\"autotypenumbers\":\"strict\",\"coloraxis\":{\"colorbar\":{\"outlinewidth\":0,\"ticks\":\"\"}},\"colorscale\":{\"diverging\":[[0,\"#8e0152\"],[0.1,\"#c51b7d\"],[0.2,\"#de77ae\"],[0.3,\"#f1b6da\"],[0.4,\"#fde0ef\"],[0.5,\"#f7f7f7\"],[0.6,\"#e6f5d0\"],[0.7,\"#b8e186\"],[0.8,\"#7fbc41\"],[0.9,\"#4d9221\"],[1,\"#276419\"]],\"sequential\":[[0.0,\"#0d0887\"],[0.1111111111111111,\"#46039f\"],[0.2222222222222222,\"#7201a8\"],[0.3333333333333333,\"#9c179e\"],[0.4444444444444444,\"#bd3786\"],[0.5555555555555556,\"#d8576b\"],[0.6666666666666666,\"#ed7953\"],[0.7777777777777778,\"#fb9f3a\"],[0.8888888888888888,\"#fdca26\"],[1.0,\"#f0f921\"]],\"sequentialminus\":[[0.0,\"#0d0887\"],[0.1111111111111111,\"#46039f\"],[0.2222222222222222,\"#7201a8\"],[0.3333333333333333,\"#9c179e\"],[0.4444444444444444,\"#bd3786\"],[0.5555555555555556,\"#d8576b\"],[0.6666666666666666,\"#ed7953\"],[0.7777777777777778,\"#fb9f3a\"],[0.8888888888888888,\"#fdca26\"],[1.0,\"#f0f921\"]]},\"colorway\":[\"#636efa\",\"#EF553B\",\"#00cc96\",\"#ab63fa\",\"#FFA15A\",\"#19d3f3\",\"#FF6692\",\"#B6E880\",\"#FF97FF\",\"#FECB52\"],\"font\":{\"color\":\"#2a3f5f\"},\"geo\":{\"bgcolor\":\"white\",\"lakecolor\":\"white\",\"landcolor\":\"#E5ECF6\",\"showlakes\":true,\"showland\":true,\"subunitcolor\":\"white\"},\"hoverlabel\":{\"align\":\"left\"},\"hovermode\":\"closest\",\"mapbox\":{\"style\":\"light\"},\"paper_bgcolor\":\"white\",\"plot_bgcolor\":\"#E5ECF6\",\"polar\":{\"angularaxis\":{\"gridcolor\":\"white\",\"linecolor\":\"white\",\"ticks\":\"\"},\"bgcolor\":\"#E5ECF6\",\"radialaxis\":{\"gridcolor\":\"white\",\"linecolor\":\"white\",\"ticks\":\"\"}},\"scene\":{\"xaxis\":{\"backgroundcolor\":\"#E5ECF6\",\"gridcolor\":\"white\",\"gridwidth\":2,\"linecolor\":\"white\",\"showbackground\":true,\"ticks\":\"\",\"zerolinecolor\":\"white\"},\"yaxis\":{\"backgroundcolor\":\"#E5ECF6\",\"gridcolor\":\"white\",\"gridwidth\":2,\"linecolor\":\"white\",\"showbackground\":true,\"ticks\":\"\",\"zerolinecolor\":\"white\"},\"zaxis\":{\"backgroundcolor\":\"#E5ECF6\",\"gridcolor\":\"white\",\"gridwidth\":2,\"linecolor\":\"white\",\"showbackground\":true,\"ticks\":\"\",\"zerolinecolor\":\"white\"}},\"shapedefaults\":{\"line\":{\"color\":\"#2a3f5f\"}},\"ternary\":{\"aaxis\":{\"gridcolor\":\"white\",\"linecolor\":\"white\",\"ticks\":\"\"},\"baxis\":{\"gridcolor\":\"white\",\"linecolor\":\"white\",\"ticks\":\"\"},\"bgcolor\":\"#E5ECF6\",\"caxis\":{\"gridcolor\":\"white\",\"linecolor\":\"white\",\"ticks\":\"\"}},\"title\":{\"x\":0.05},\"xaxis\":{\"automargin\":true,\"gridcolor\":\"white\",\"linecolor\":\"white\",\"ticks\":\"\",\"title\":{\"standoff\":15},\"zerolinecolor\":\"white\",\"zerolinewidth\":2},\"yaxis\":{\"automargin\":true,\"gridcolor\":\"white\",\"linecolor\":\"white\",\"ticks\":\"\",\"title\":{\"standoff\":15},\"zerolinecolor\":\"white\",\"zerolinewidth\":2}}},\"title\":{\"font\":{\"color\":\"#4D5663\"},\"text\":\"Highest Opening Price for Companies in 2022\"},\"xaxis\":{\"gridcolor\":\"#E1E5ED\",\"showgrid\":true,\"tickfont\":{\"color\":\"#4D5663\"},\"title\":{\"font\":{\"color\":\"#4D5663\"},\"text\":\"\"},\"zerolinecolor\":\"#E1E5ED\"},\"yaxis\":{\"gridcolor\":\"#E1E5ED\",\"showgrid\":true,\"tickfont\":{\"color\":\"#4D5663\"},\"title\":{\"font\":{\"color\":\"#4D5663\"},\"text\":\"\"},\"zerolinecolor\":\"#E1E5ED\"}},                        {\"showLink\": true, \"linkText\": \"Export to plot.ly\", \"plotlyServerURL\": \"https://plot.ly\", \"responsive\": true}                    ).then(function(){\n",
       "                            \n",
       "var gd = document.getElementById('659c770c-4d7a-4fdd-b41c-6657eb0ad0bd');\n",
       "var x = new MutationObserver(function (mutations, observer) {{\n",
       "        var display = window.getComputedStyle(gd).display;\n",
       "        if (!display || display === 'none') {{\n",
       "            console.log([gd, 'removed!']);\n",
       "            Plotly.purge(gd);\n",
       "            observer.disconnect();\n",
       "        }}\n",
       "}});\n",
       "\n",
       "// Listen for the removal of the full notebook cells\n",
       "var notebookContainer = gd.closest('#notebook-container');\n",
       "if (notebookContainer) {{\n",
       "    x.observe(notebookContainer, {childList: true});\n",
       "}}\n",
       "\n",
       "// Listen for the clearing of the current output cell\n",
       "var outputEl = gd.closest('.output');\n",
       "if (outputEl) {{\n",
       "    x.observe(outputEl, {childList: true});\n",
       "}}\n",
       "\n",
       "                        })                };                });            </script>        </div>"
      ]
     },
     "metadata": {},
     "output_type": "display_data"
    }
   ],
   "source": [
    "max_open[max_open['Year'] == 2022].iplot(x='Company', y='Open', title = \"Highest Opening Price for Companies in 2022\")"
   ]
  },
  {
   "cell_type": "code",
   "execution_count": 42,
   "id": "e8c58769",
   "metadata": {},
   "outputs": [
    {
     "data": {
      "text/html": [
       "<div>\n",
       "<style scoped>\n",
       "    .dataframe tbody tr th:only-of-type {\n",
       "        vertical-align: middle;\n",
       "    }\n",
       "\n",
       "    .dataframe tbody tr th {\n",
       "        vertical-align: top;\n",
       "    }\n",
       "\n",
       "    .dataframe thead th {\n",
       "        text-align: right;\n",
       "    }\n",
       "</style>\n",
       "<table border=\"1\" class=\"dataframe\">\n",
       "  <thead>\n",
       "    <tr style=\"text-align: right;\">\n",
       "      <th></th>\n",
       "      <th>Company</th>\n",
       "      <th>Close/Last</th>\n",
       "      <th>Volume</th>\n",
       "      <th>Open</th>\n",
       "      <th>High</th>\n",
       "      <th>Low</th>\n",
       "      <th>Returns</th>\n",
       "      <th>Year</th>\n",
       "    </tr>\n",
       "    <tr>\n",
       "      <th>Date</th>\n",
       "      <th></th>\n",
       "      <th></th>\n",
       "      <th></th>\n",
       "      <th></th>\n",
       "      <th></th>\n",
       "      <th></th>\n",
       "      <th></th>\n",
       "      <th></th>\n",
       "    </tr>\n",
       "  </thead>\n",
       "  <tbody>\n",
       "    <tr>\n",
       "      <th>2023-07-14</th>\n",
       "      <td>AAPL</td>\n",
       "      <td>19069</td>\n",
       "      <td>41616240</td>\n",
       "      <td>19023</td>\n",
       "      <td>1911799</td>\n",
       "      <td>18963</td>\n",
       "      <td>-0.017011</td>\n",
       "      <td>2023</td>\n",
       "    </tr>\n",
       "    <tr>\n",
       "      <th>2023-07-13</th>\n",
       "      <td>AAPL</td>\n",
       "      <td>19054</td>\n",
       "      <td>41342340</td>\n",
       "      <td>19050</td>\n",
       "      <td>19119</td>\n",
       "      <td>18978</td>\n",
       "      <td>-0.000787</td>\n",
       "      <td>2023</td>\n",
       "    </tr>\n",
       "    <tr>\n",
       "      <th>2023-07-12</th>\n",
       "      <td>AAPL</td>\n",
       "      <td>18977</td>\n",
       "      <td>60750250</td>\n",
       "      <td>18968</td>\n",
       "      <td>19170</td>\n",
       "      <td>18847</td>\n",
       "      <td>-0.004041</td>\n",
       "      <td>2023</td>\n",
       "    </tr>\n",
       "    <tr>\n",
       "      <th>2023-07-11</th>\n",
       "      <td>AAPL</td>\n",
       "      <td>18808</td>\n",
       "      <td>46638120</td>\n",
       "      <td>18916</td>\n",
       "      <td>18930</td>\n",
       "      <td>18660</td>\n",
       "      <td>-0.008906</td>\n",
       "      <td>2023</td>\n",
       "    </tr>\n",
       "    <tr>\n",
       "      <th>2023-07-10</th>\n",
       "      <td>AAPL</td>\n",
       "      <td>18861</td>\n",
       "      <td>59922160</td>\n",
       "      <td>18926</td>\n",
       "      <td>18999</td>\n",
       "      <td>187035</td>\n",
       "      <td>0.002818</td>\n",
       "      <td>2023</td>\n",
       "    </tr>\n",
       "  </tbody>\n",
       "</table>\n",
       "</div>"
      ],
      "text/plain": [
       "           Company  Close/Last    Volume   Open     High     Low   Returns  \\\n",
       "Date                                                                         \n",
       "2023-07-14    AAPL       19069  41616240  19023  1911799   18963 -0.017011   \n",
       "2023-07-13    AAPL       19054  41342340  19050    19119   18978 -0.000787   \n",
       "2023-07-12    AAPL       18977  60750250  18968    19170   18847 -0.004041   \n",
       "2023-07-11    AAPL       18808  46638120  18916    18930   18660 -0.008906   \n",
       "2023-07-10    AAPL       18861  59922160  18926    18999  187035  0.002818   \n",
       "\n",
       "            Year  \n",
       "Date              \n",
       "2023-07-14  2023  \n",
       "2023-07-13  2023  \n",
       "2023-07-12  2023  \n",
       "2023-07-11  2023  \n",
       "2023-07-10  2023  "
      ]
     },
     "execution_count": 42,
     "metadata": {},
     "output_type": "execute_result"
    }
   ],
   "source": [
    "df.head()"
   ]
  },
  {
   "cell_type": "code",
   "execution_count": 43,
   "id": "c124cf45",
   "metadata": {},
   "outputs": [],
   "source": [
    "aapl_neg = aapl[aapl['Returns']<0]"
   ]
  },
  {
   "cell_type": "code",
   "execution_count": 44,
   "id": "0f4e233f",
   "metadata": {},
   "outputs": [
    {
     "name": "stderr",
     "output_type": "stream",
     "text": [
      "C:\\Users\\ayush\\AppData\\Local\\Temp\\ipykernel_23724\\1303041892.py:1: FutureWarning:\n",
      "\n",
      "Value based partial slicing on non-monotonic DatetimeIndexes with non-existing keys is deprecated and will raise a KeyError in a future Version.\n",
      "\n"
     ]
    },
    {
     "data": {
      "text/plain": [
       "Text(0.5, 1.0, \"Apple's Lowest Returns\")"
      ]
     },
     "execution_count": 44,
     "metadata": {},
     "output_type": "execute_result"
    },
    {
     "data": {
      "image/png": "[encoded data removed]",
      "text/plain": [
       "<Figure size 720x576 with 1 Axes>"
      ]
     },
     "metadata": {},
     "output_type": "display_data"
    }
   ],
   "source": [
    "aapl_neg.loc['2022-01-03' : '2022-12-30']['Returns'].plot(kind = 'line', figsize=(10,8), lw = 2, color = 'green')\n",
    "\n",
    "plt.title(\"Apple's Lowest Returns\")"
   ]
  },
  {
   "cell_type": "code",
   "execution_count": 45,
   "id": "23c53e6b",
   "metadata": {},
   "outputs": [],
   "source": [
    "aapl_pos = aapl[aapl['Returns']>0]"
   ]
  },
  {
   "cell_type": "code",
   "execution_count": 46,
   "id": "f9bcf64e",
   "metadata": {},
   "outputs": [],
   "source": [
    "#aapl_pos"
   ]
  },
  {
   "cell_type": "code",
   "execution_count": 47,
   "id": "7543ef5d",
   "metadata": {},
   "outputs": [
    {
     "data": {
      "text/plain": [
       "Text(0.5, 1.0, \"Apple's Highest Returns\")"
      ]
     },
     "execution_count": 47,
     "metadata": {},
     "output_type": "execute_result"
    },
    {
     "data": {
      "image/png": "[encoded data removed]",
      "text/plain": [
       "<Figure size 720x576 with 1 Axes>"
      ]
     },
     "metadata": {},
     "output_type": "display_data"
    }
   ],
   "source": [
    "aapl_pos.loc['2022-01-03' : '2022-12-30']['Returns'].plot(kind = 'line', figsize=(10,8), lw = 2, color = 'green')\n",
    "\n",
    "plt.title(\"Apple's Highest Returns\")"
   ]
  },
  {
   "cell_type": "code",
   "execution_count": 48,
   "id": "c7661604",
   "metadata": {},
   "outputs": [
    {
     "data": {
      "text/html": [
       "<div>\n",
       "<style scoped>\n",
       "    .dataframe tbody tr th:only-of-type {\n",
       "        vertical-align: middle;\n",
       "    }\n",
       "\n",
       "    .dataframe tbody tr th {\n",
       "        vertical-align: top;\n",
       "    }\n",
       "\n",
       "    .dataframe thead th {\n",
       "        text-align: right;\n",
       "    }\n",
       "</style>\n",
       "<table border=\"1\" class=\"dataframe\">\n",
       "  <thead>\n",
       "    <tr style=\"text-align: right;\">\n",
       "      <th></th>\n",
       "      <th>Company</th>\n",
       "      <th>Close/Last</th>\n",
       "      <th>Volume</th>\n",
       "      <th>Open</th>\n",
       "      <th>High</th>\n",
       "      <th>Low</th>\n",
       "      <th>Returns</th>\n",
       "      <th>Year</th>\n",
       "    </tr>\n",
       "    <tr>\n",
       "      <th>Date</th>\n",
       "      <th></th>\n",
       "      <th></th>\n",
       "      <th></th>\n",
       "      <th></th>\n",
       "      <th></th>\n",
       "      <th></th>\n",
       "      <th></th>\n",
       "      <th></th>\n",
       "    </tr>\n",
       "  </thead>\n",
       "  <tbody>\n",
       "    <tr>\n",
       "      <th>2023-07-14</th>\n",
       "      <td>AAPL</td>\n",
       "      <td>19069</td>\n",
       "      <td>41616240</td>\n",
       "      <td>19023</td>\n",
       "      <td>1911799</td>\n",
       "      <td>18963</td>\n",
       "      <td>-0.017011</td>\n",
       "      <td>2023</td>\n",
       "    </tr>\n",
       "    <tr>\n",
       "      <th>2023-07-13</th>\n",
       "      <td>AAPL</td>\n",
       "      <td>19054</td>\n",
       "      <td>41342340</td>\n",
       "      <td>19050</td>\n",
       "      <td>19119</td>\n",
       "      <td>18978</td>\n",
       "      <td>-0.000787</td>\n",
       "      <td>2023</td>\n",
       "    </tr>\n",
       "    <tr>\n",
       "      <th>2023-07-12</th>\n",
       "      <td>AAPL</td>\n",
       "      <td>18977</td>\n",
       "      <td>60750250</td>\n",
       "      <td>18968</td>\n",
       "      <td>19170</td>\n",
       "      <td>18847</td>\n",
       "      <td>-0.004041</td>\n",
       "      <td>2023</td>\n",
       "    </tr>\n",
       "    <tr>\n",
       "      <th>2023-07-11</th>\n",
       "      <td>AAPL</td>\n",
       "      <td>18808</td>\n",
       "      <td>46638120</td>\n",
       "      <td>18916</td>\n",
       "      <td>18930</td>\n",
       "      <td>18660</td>\n",
       "      <td>-0.008906</td>\n",
       "      <td>2023</td>\n",
       "    </tr>\n",
       "    <tr>\n",
       "      <th>2023-07-10</th>\n",
       "      <td>AAPL</td>\n",
       "      <td>18861</td>\n",
       "      <td>59922160</td>\n",
       "      <td>18926</td>\n",
       "      <td>18999</td>\n",
       "      <td>187035</td>\n",
       "      <td>0.002818</td>\n",
       "      <td>2023</td>\n",
       "    </tr>\n",
       "  </tbody>\n",
       "</table>\n",
       "</div>"
      ],
      "text/plain": [
       "           Company  Close/Last    Volume   Open     High     Low   Returns  \\\n",
       "Date                                                                         \n",
       "2023-07-14    AAPL       19069  41616240  19023  1911799   18963 -0.017011   \n",
       "2023-07-13    AAPL       19054  41342340  19050    19119   18978 -0.000787   \n",
       "2023-07-12    AAPL       18977  60750250  18968    19170   18847 -0.004041   \n",
       "2023-07-11    AAPL       18808  46638120  18916    18930   18660 -0.008906   \n",
       "2023-07-10    AAPL       18861  59922160  18926    18999  187035  0.002818   \n",
       "\n",
       "            Year  \n",
       "Date              \n",
       "2023-07-14  2023  \n",
       "2023-07-13  2023  \n",
       "2023-07-12  2023  \n",
       "2023-07-11  2023  \n",
       "2023-07-10  2023  "
      ]
     },
     "execution_count": 48,
     "metadata": {},
     "output_type": "execute_result"
    }
   ],
   "source": [
    "df.head()"
   ]
  },
  {
   "cell_type": "code",
   "execution_count": 49,
   "id": "6620c97b",
   "metadata": {},
   "outputs": [
    {
     "data": {
      "text/plain": [
       "array(['AAPL', 'SBUX', 'MSFT', 'CSCO', 'QCOM', 'META', 'AMZN', 'TSLA',\n",
       "       'AMD', 'NFLX'], dtype=object)"
      ]
     },
     "execution_count": 49,
     "metadata": {},
     "output_type": "execute_result"
    }
   ],
   "source": [
    "df['Company'].unique()"
   ]
  },
  {
   "cell_type": "code",
   "execution_count": 50,
   "id": "46ad8e69",
   "metadata": {},
   "outputs": [],
   "source": [
    "netflix = df[df['Company'] == 'NFLX']"
   ]
  },
  {
   "cell_type": "code",
   "execution_count": 68,
   "id": "31c4122a",
   "metadata": {},
   "outputs": [
    {
     "data": {
      "text/html": [
       "<div>\n",
       "<style scoped>\n",
       "    .dataframe tbody tr th:only-of-type {\n",
       "        vertical-align: middle;\n",
       "    }\n",
       "\n",
       "    .dataframe tbody tr th {\n",
       "        vertical-align: top;\n",
       "    }\n",
       "\n",
       "    .dataframe thead th {\n",
       "        text-align: right;\n",
       "    }\n",
       "</style>\n",
       "<table border=\"1\" class=\"dataframe\">\n",
       "  <thead>\n",
       "    <tr style=\"text-align: right;\">\n",
       "      <th></th>\n",
       "      <th>Company</th>\n",
       "      <th>Close/Last</th>\n",
       "      <th>Volume</th>\n",
       "      <th>Open</th>\n",
       "      <th>High</th>\n",
       "      <th>Low</th>\n",
       "      <th>Returns</th>\n",
       "      <th>Year</th>\n",
       "    </tr>\n",
       "    <tr>\n",
       "      <th>Date</th>\n",
       "      <th></th>\n",
       "      <th></th>\n",
       "      <th></th>\n",
       "      <th></th>\n",
       "      <th></th>\n",
       "      <th></th>\n",
       "      <th></th>\n",
       "      <th></th>\n",
       "    </tr>\n",
       "  </thead>\n",
       "  <tbody>\n",
       "    <tr>\n",
       "      <th>2023-07-17</th>\n",
       "      <td>NFLX</td>\n",
       "      <td>45005</td>\n",
       "      <td>6901141</td>\n",
       "      <td>44557</td>\n",
       "      <td>45668</td>\n",
       "      <td>4451053</td>\n",
       "      <td>95.993534</td>\n",
       "      <td>2023</td>\n",
       "    </tr>\n",
       "    <tr>\n",
       "      <th>2023-07-14</th>\n",
       "      <td>NFLX</td>\n",
       "      <td>44191</td>\n",
       "      <td>7195860</td>\n",
       "      <td>452785</td>\n",
       "      <td>45648</td>\n",
       "      <td>43970</td>\n",
       "      <td>-0.018087</td>\n",
       "      <td>2023</td>\n",
       "    </tr>\n",
       "    <tr>\n",
       "      <th>2023-07-13</th>\n",
       "      <td>NFLX</td>\n",
       "      <td>45038</td>\n",
       "      <td>6157475</td>\n",
       "      <td>44700</td>\n",
       "      <td>45167</td>\n",
       "      <td>441177</td>\n",
       "      <td>0.019167</td>\n",
       "      <td>2023</td>\n",
       "    </tr>\n",
       "    <tr>\n",
       "      <th>2023-07-12</th>\n",
       "      <td>NFLX</td>\n",
       "      <td>44405</td>\n",
       "      <td>5731657</td>\n",
       "      <td>44455</td>\n",
       "      <td>4454085</td>\n",
       "      <td>4377494</td>\n",
       "      <td>-0.014055</td>\n",
       "      <td>2023</td>\n",
       "    </tr>\n",
       "    <tr>\n",
       "      <th>2023-07-11</th>\n",
       "      <td>NFLX</td>\n",
       "      <td>44021</td>\n",
       "      <td>4574559</td>\n",
       "      <td>43865</td>\n",
       "      <td>44080</td>\n",
       "      <td>4310415</td>\n",
       "      <td>-0.008648</td>\n",
       "      <td>2023</td>\n",
       "    </tr>\n",
       "  </tbody>\n",
       "</table>\n",
       "</div>"
      ],
      "text/plain": [
       "           Company  Close/Last   Volume    Open     High      Low    Returns  \\\n",
       "Date                                                                           \n",
       "2023-07-17    NFLX       45005  6901141   44557    45668  4451053  95.993534   \n",
       "2023-07-14    NFLX       44191  7195860  452785    45648    43970  -0.018087   \n",
       "2023-07-13    NFLX       45038  6157475   44700    45167   441177   0.019167   \n",
       "2023-07-12    NFLX       44405  5731657   44455  4454085  4377494  -0.014055   \n",
       "2023-07-11    NFLX       44021  4574559   43865    44080  4310415  -0.008648   \n",
       "\n",
       "            Year  \n",
       "Date              \n",
       "2023-07-17  2023  \n",
       "2023-07-14  2023  \n",
       "2023-07-13  2023  \n",
       "2023-07-12  2023  \n",
       "2023-07-11  2023  "
      ]
     },
     "execution_count": 68,
     "metadata": {},
     "output_type": "execute_result"
    }
   ],
   "source": [
    "netflix.head()"
   ]
  },
  {
   "cell_type": "code",
   "execution_count": 52,
   "id": "aa789222",
   "metadata": {},
   "outputs": [
    {
     "data": {
      "text/plain": [
       "Timestamp('2013-08-20 00:00:00')"
      ]
     },
     "execution_count": 52,
     "metadata": {},
     "output_type": "execute_result"
    }
   ],
   "source": [
    "netflix['Low'].idxmin()"
   ]
  },
  {
   "cell_type": "code",
   "execution_count": 53,
   "id": "0fa9c197",
   "metadata": {},
   "outputs": [
    {
     "data": {
      "text/plain": [
       "Timestamp('2021-11-17 00:00:00')"
      ]
     },
     "execution_count": 53,
     "metadata": {},
     "output_type": "execute_result"
    }
   ],
   "source": [
    "netflix['High'].idxmax()"
   ]
  },
  {
   "cell_type": "code",
   "execution_count": 54,
   "id": "baad7c7d",
   "metadata": {},
   "outputs": [
    {
     "data": {
      "image/png": "[encoded data removed]",
      "text/plain": [
       "<Figure size 864x576 with 1 Axes>"
      ]
     },
     "metadata": {},
     "output_type": "display_data"
    }
   ],
   "source": [
    "ax = netflix.groupby(by='Year')['Returns'].max().plot(kind='line', figsize=(12,8))\n",
    "\n"
   ]
  },
  {
   "cell_type": "code",
   "execution_count": 55,
   "id": "51027aea",
   "metadata": {},
   "outputs": [],
   "source": [
    "microsoft = df[df['Company'] == 'MSFT']"
   ]
  },
  {
   "cell_type": "code",
   "execution_count": 56,
   "id": "d8709518",
   "metadata": {},
   "outputs": [
    {
     "data": {
      "text/html": [
       "<div>\n",
       "<style scoped>\n",
       "    .dataframe tbody tr th:only-of-type {\n",
       "        vertical-align: middle;\n",
       "    }\n",
       "\n",
       "    .dataframe tbody tr th {\n",
       "        vertical-align: top;\n",
       "    }\n",
       "\n",
       "    .dataframe thead th {\n",
       "        text-align: right;\n",
       "    }\n",
       "</style>\n",
       "<table border=\"1\" class=\"dataframe\">\n",
       "  <thead>\n",
       "    <tr style=\"text-align: right;\">\n",
       "      <th></th>\n",
       "      <th>Company</th>\n",
       "      <th>Close/Last</th>\n",
       "      <th>Volume</th>\n",
       "      <th>Open</th>\n",
       "      <th>High</th>\n",
       "      <th>Low</th>\n",
       "      <th>Returns</th>\n",
       "      <th>Year</th>\n",
       "    </tr>\n",
       "    <tr>\n",
       "      <th>Date</th>\n",
       "      <th></th>\n",
       "      <th></th>\n",
       "      <th></th>\n",
       "      <th></th>\n",
       "      <th></th>\n",
       "      <th></th>\n",
       "      <th></th>\n",
       "      <th></th>\n",
       "    </tr>\n",
       "  </thead>\n",
       "  <tbody>\n",
       "    <tr>\n",
       "      <th>2023-07-17</th>\n",
       "      <td>MSFT</td>\n",
       "      <td>34573</td>\n",
       "      <td>20363930</td>\n",
       "      <td>345678</td>\n",
       "      <td>34699</td>\n",
       "      <td>34220</td>\n",
       "      <td>9.097255</td>\n",
       "      <td>2023</td>\n",
       "    </tr>\n",
       "    <tr>\n",
       "      <th>2023-07-14</th>\n",
       "      <td>MSFT</td>\n",
       "      <td>34524</td>\n",
       "      <td>28352730</td>\n",
       "      <td>34759</td>\n",
       "      <td>35143</td>\n",
       "      <td>34431</td>\n",
       "      <td>-0.001417</td>\n",
       "      <td>2023</td>\n",
       "    </tr>\n",
       "    <tr>\n",
       "      <th>2023-07-13</th>\n",
       "      <td>MSFT</td>\n",
       "      <td>34266</td>\n",
       "      <td>20567160</td>\n",
       "      <td>33956</td>\n",
       "      <td>34374</td>\n",
       "      <td>33902</td>\n",
       "      <td>-0.007473</td>\n",
       "      <td>2023</td>\n",
       "    </tr>\n",
       "    <tr>\n",
       "      <th>2023-07-12</th>\n",
       "      <td>MSFT</td>\n",
       "      <td>33720</td>\n",
       "      <td>29995260</td>\n",
       "      <td>33660</td>\n",
       "      <td>341652</td>\n",
       "      <td>33567</td>\n",
       "      <td>-0.015934</td>\n",
       "      <td>2023</td>\n",
       "    </tr>\n",
       "    <tr>\n",
       "      <th>2023-07-11</th>\n",
       "      <td>MSFT</td>\n",
       "      <td>33247</td>\n",
       "      <td>26698220</td>\n",
       "      <td>33106</td>\n",
       "      <td>33286</td>\n",
       "      <td>32700</td>\n",
       "      <td>-0.014027</td>\n",
       "      <td>2023</td>\n",
       "    </tr>\n",
       "  </tbody>\n",
       "</table>\n",
       "</div>"
      ],
      "text/plain": [
       "           Company  Close/Last    Volume    Open    High    Low   Returns  \\\n",
       "Date                                                                        \n",
       "2023-07-17    MSFT       34573  20363930  345678   34699  34220  9.097255   \n",
       "2023-07-14    MSFT       34524  28352730   34759   35143  34431 -0.001417   \n",
       "2023-07-13    MSFT       34266  20567160   33956   34374  33902 -0.007473   \n",
       "2023-07-12    MSFT       33720  29995260   33660  341652  33567 -0.015934   \n",
       "2023-07-11    MSFT       33247  26698220   33106   33286  32700 -0.014027   \n",
       "\n",
       "            Year  \n",
       "Date              \n",
       "2023-07-17  2023  \n",
       "2023-07-14  2023  \n",
       "2023-07-13  2023  \n",
       "2023-07-12  2023  \n",
       "2023-07-11  2023  "
      ]
     },
     "execution_count": 56,
     "metadata": {},
     "output_type": "execute_result"
    }
   ],
   "source": [
    "microsoft.head()"
   ]
  },
  {
   "cell_type": "code",
   "execution_count": 57,
   "id": "878f4e51",
   "metadata": {},
   "outputs": [
    {
     "data": {
      "text/plain": [
       "<AxesSubplot:xlabel='Year'>"
      ]
     },
     "execution_count": 57,
     "metadata": {},
     "output_type": "execute_result"
    },
    {
     "data": {
      "image/png": "[encoded data removed]",
      "text/plain": [
       "<Figure size 720x432 with 1 Axes>"
      ]
     },
     "metadata": {},
     "output_type": "display_data"
    }
   ],
   "source": [
    "microsoft.groupby(by='Year')['Returns'].max().plot(kind='line', figsize=(10,6), lw=2, color='darkgreen')"
   ]
  },
  {
   "cell_type": "code",
   "execution_count": 58,
   "id": "f13fef07",
   "metadata": {},
   "outputs": [],
   "source": [
    "returns = pd.DataFrame(df.groupby(by=['Company', 'Year'])['Returns'].max())"
   ]
  },
  {
   "cell_type": "code",
   "execution_count": 59,
   "id": "ea3b06ea",
   "metadata": {},
   "outputs": [],
   "source": [
    "returns.reset_index(inplace=True)"
   ]
  },
  {
   "cell_type": "code",
   "execution_count": 60,
   "id": "059a1b89",
   "metadata": {},
   "outputs": [
    {
     "data": {
      "text/plain": [
       "array(['AAPL', 'AMD', 'AMZN', 'CSCO', 'META', 'MSFT', 'NFLX', 'QCOM',\n",
       "       'SBUX', 'TSLA'], dtype=object)"
      ]
     },
     "execution_count": 60,
     "metadata": {},
     "output_type": "execute_result"
    }
   ],
   "source": [
    "returns['Company'].unique()"
   ]
  },
  {
   "cell_type": "code",
   "execution_count": 61,
   "id": "a2814229",
   "metadata": {},
   "outputs": [
    {
     "data": {
      "text/plain": [
       "<AxesSubplot:xlabel='Year', ylabel='Returns'>"
      ]
     },
     "execution_count": 61,
     "metadata": {},
     "output_type": "execute_result"
    },
    {
     "data": {
      "image/png": "[encoded data removed]",
      "text/plain": [
       "<Figure size 1008x720 with 1 Axes>"
      ]
     },
     "metadata": {},
     "output_type": "display_data"
    }
   ],
   "source": [
    "plt.figure(figsize=(14,10))\n",
    "\n",
    "sns.lineplot(x='Year', y='Returns', data = returns, hue ='Company')"
   ]
  },
  {
   "cell_type": "code",
   "execution_count": 62,
   "id": "585c2c71",
   "metadata": {},
   "outputs": [
    {
     "data": {
      "text/html": [
       "<div>\n",
       "<style scoped>\n",
       "    .dataframe tbody tr th:only-of-type {\n",
       "        vertical-align: middle;\n",
       "    }\n",
       "\n",
       "    .dataframe tbody tr th {\n",
       "        vertical-align: top;\n",
       "    }\n",
       "\n",
       "    .dataframe thead th {\n",
       "        text-align: right;\n",
       "    }\n",
       "</style>\n",
       "<table border=\"1\" class=\"dataframe\">\n",
       "  <thead>\n",
       "    <tr style=\"text-align: right;\">\n",
       "      <th></th>\n",
       "      <th>Company</th>\n",
       "      <th>Close/Last</th>\n",
       "      <th>Volume</th>\n",
       "      <th>Open</th>\n",
       "      <th>High</th>\n",
       "      <th>Low</th>\n",
       "      <th>Returns</th>\n",
       "      <th>Year</th>\n",
       "    </tr>\n",
       "    <tr>\n",
       "      <th>Date</th>\n",
       "      <th></th>\n",
       "      <th></th>\n",
       "      <th></th>\n",
       "      <th></th>\n",
       "      <th></th>\n",
       "      <th></th>\n",
       "      <th></th>\n",
       "      <th></th>\n",
       "    </tr>\n",
       "  </thead>\n",
       "  <tbody>\n",
       "    <tr>\n",
       "      <th>2023-07-14</th>\n",
       "      <td>AAPL</td>\n",
       "      <td>19069</td>\n",
       "      <td>41616240</td>\n",
       "      <td>19023</td>\n",
       "      <td>1911799</td>\n",
       "      <td>18963</td>\n",
       "      <td>-0.017011</td>\n",
       "      <td>2023</td>\n",
       "    </tr>\n",
       "    <tr>\n",
       "      <th>2023-07-13</th>\n",
       "      <td>AAPL</td>\n",
       "      <td>19054</td>\n",
       "      <td>41342340</td>\n",
       "      <td>19050</td>\n",
       "      <td>19119</td>\n",
       "      <td>18978</td>\n",
       "      <td>-0.000787</td>\n",
       "      <td>2023</td>\n",
       "    </tr>\n",
       "    <tr>\n",
       "      <th>2023-07-12</th>\n",
       "      <td>AAPL</td>\n",
       "      <td>18977</td>\n",
       "      <td>60750250</td>\n",
       "      <td>18968</td>\n",
       "      <td>19170</td>\n",
       "      <td>18847</td>\n",
       "      <td>-0.004041</td>\n",
       "      <td>2023</td>\n",
       "    </tr>\n",
       "    <tr>\n",
       "      <th>2023-07-11</th>\n",
       "      <td>AAPL</td>\n",
       "      <td>18808</td>\n",
       "      <td>46638120</td>\n",
       "      <td>18916</td>\n",
       "      <td>18930</td>\n",
       "      <td>18660</td>\n",
       "      <td>-0.008906</td>\n",
       "      <td>2023</td>\n",
       "    </tr>\n",
       "    <tr>\n",
       "      <th>2023-07-10</th>\n",
       "      <td>AAPL</td>\n",
       "      <td>18861</td>\n",
       "      <td>59922160</td>\n",
       "      <td>18926</td>\n",
       "      <td>18999</td>\n",
       "      <td>187035</td>\n",
       "      <td>0.002818</td>\n",
       "      <td>2023</td>\n",
       "    </tr>\n",
       "  </tbody>\n",
       "</table>\n",
       "</div>"
      ],
      "text/plain": [
       "           Company  Close/Last    Volume   Open     High     Low   Returns  \\\n",
       "Date                                                                         \n",
       "2023-07-14    AAPL       19069  41616240  19023  1911799   18963 -0.017011   \n",
       "2023-07-13    AAPL       19054  41342340  19050    19119   18978 -0.000787   \n",
       "2023-07-12    AAPL       18977  60750250  18968    19170   18847 -0.004041   \n",
       "2023-07-11    AAPL       18808  46638120  18916    18930   18660 -0.008906   \n",
       "2023-07-10    AAPL       18861  59922160  18926    18999  187035  0.002818   \n",
       "\n",
       "            Year  \n",
       "Date              \n",
       "2023-07-14  2023  \n",
       "2023-07-13  2023  \n",
       "2023-07-12  2023  \n",
       "2023-07-11  2023  \n",
       "2023-07-10  2023  "
      ]
     },
     "execution_count": 62,
     "metadata": {},
     "output_type": "execute_result"
    }
   ],
   "source": [
    "df.head()"
   ]
  },
  {
   "cell_type": "code",
   "execution_count": 65,
   "id": "2347fd9d",
   "metadata": {},
   "outputs": [
    {
     "data": {
      "text/plain": [
       "Timestamp('2020-02-26 00:00:00')"
      ]
     },
     "execution_count": 65,
     "metadata": {},
     "output_type": "execute_result"
    }
   ],
   "source": [
    "df[df['Company'] == 'AAPL']['Returns'].idxmax()"
   ]
  },
  {
   "cell_type": "code",
   "execution_count": 67,
   "id": "52a0e168",
   "metadata": {},
   "outputs": [
    {
     "data": {
      "text/html": [
       "<div>\n",
       "<style scoped>\n",
       "    .dataframe tbody tr th:only-of-type {\n",
       "        vertical-align: middle;\n",
       "    }\n",
       "\n",
       "    .dataframe tbody tr th {\n",
       "        vertical-align: top;\n",
       "    }\n",
       "\n",
       "    .dataframe thead th {\n",
       "        text-align: right;\n",
       "    }\n",
       "</style>\n",
       "<table border=\"1\" class=\"dataframe\">\n",
       "  <thead>\n",
       "    <tr style=\"text-align: right;\">\n",
       "      <th></th>\n",
       "      <th>Company</th>\n",
       "      <th>Close/Last</th>\n",
       "      <th>Volume</th>\n",
       "      <th>Open</th>\n",
       "      <th>High</th>\n",
       "      <th>Low</th>\n",
       "      <th>Returns</th>\n",
       "    </tr>\n",
       "    <tr>\n",
       "      <th>Date</th>\n",
       "      <th></th>\n",
       "      <th></th>\n",
       "      <th></th>\n",
       "      <th></th>\n",
       "      <th></th>\n",
       "      <th></th>\n",
       "      <th></th>\n",
       "    </tr>\n",
       "  </thead>\n",
       "  <tbody>\n",
       "    <tr>\n",
       "      <th>2023-07-14</th>\n",
       "      <td>AAPL</td>\n",
       "      <td>19069</td>\n",
       "      <td>41616240</td>\n",
       "      <td>19023</td>\n",
       "      <td>1911799</td>\n",
       "      <td>18963</td>\n",
       "      <td>-0.017011</td>\n",
       "    </tr>\n",
       "    <tr>\n",
       "      <th>2023-07-13</th>\n",
       "      <td>AAPL</td>\n",
       "      <td>19054</td>\n",
       "      <td>41342340</td>\n",
       "      <td>19050</td>\n",
       "      <td>19119</td>\n",
       "      <td>18978</td>\n",
       "      <td>-0.000787</td>\n",
       "    </tr>\n",
       "    <tr>\n",
       "      <th>2023-07-12</th>\n",
       "      <td>AAPL</td>\n",
       "      <td>18977</td>\n",
       "      <td>60750250</td>\n",
       "      <td>18968</td>\n",
       "      <td>19170</td>\n",
       "      <td>18847</td>\n",
       "      <td>-0.004041</td>\n",
       "    </tr>\n",
       "    <tr>\n",
       "      <th>2023-07-11</th>\n",
       "      <td>AAPL</td>\n",
       "      <td>18808</td>\n",
       "      <td>46638120</td>\n",
       "      <td>18916</td>\n",
       "      <td>18930</td>\n",
       "      <td>18660</td>\n",
       "      <td>-0.008906</td>\n",
       "    </tr>\n",
       "    <tr>\n",
       "      <th>2023-07-10</th>\n",
       "      <td>AAPL</td>\n",
       "      <td>18861</td>\n",
       "      <td>59922160</td>\n",
       "      <td>18926</td>\n",
       "      <td>18999</td>\n",
       "      <td>187035</td>\n",
       "      <td>0.002818</td>\n",
       "    </tr>\n",
       "    <tr>\n",
       "      <th>...</th>\n",
       "      <td>...</td>\n",
       "      <td>...</td>\n",
       "      <td>...</td>\n",
       "      <td>...</td>\n",
       "      <td>...</td>\n",
       "      <td>...</td>\n",
       "      <td>...</td>\n",
       "    </tr>\n",
       "    <tr>\n",
       "      <th>2013-07-24</th>\n",
       "      <td>AAPL</td>\n",
       "      <td>157325</td>\n",
       "      <td>591624923</td>\n",
       "      <td>156761</td>\n",
       "      <td>158782</td>\n",
       "      <td>15545</td>\n",
       "      <td>0.004585</td>\n",
       "    </tr>\n",
       "    <tr>\n",
       "      <th>2013-07-23</th>\n",
       "      <td>AAPL</td>\n",
       "      <td>149639</td>\n",
       "      <td>354477618</td>\n",
       "      <td>152143</td>\n",
       "      <td>152486</td>\n",
       "      <td>149539</td>\n",
       "      <td>-0.048854</td>\n",
       "    </tr>\n",
       "    <tr>\n",
       "      <th>2013-07-22</th>\n",
       "      <td>AAPL</td>\n",
       "      <td>152254</td>\n",
       "      <td>207648981</td>\n",
       "      <td>153379</td>\n",
       "      <td>153482</td>\n",
       "      <td>151953</td>\n",
       "      <td>0.017475</td>\n",
       "    </tr>\n",
       "    <tr>\n",
       "      <th>2013-07-19</th>\n",
       "      <td>AAPL</td>\n",
       "      <td>151768</td>\n",
       "      <td>268548901</td>\n",
       "      <td>154679</td>\n",
       "      <td>154993</td>\n",
       "      <td>151554</td>\n",
       "      <td>-0.003192</td>\n",
       "    </tr>\n",
       "    <tr>\n",
       "      <th>2013-07-18</th>\n",
       "      <td>AAPL</td>\n",
       "      <td>154199</td>\n",
       "      <td>218632537</td>\n",
       "      <td>154779</td>\n",
       "      <td>155311</td>\n",
       "      <td>153789</td>\n",
       "      <td>0.016018</td>\n",
       "    </tr>\n",
       "  </tbody>\n",
       "</table>\n",
       "<p>2515 rows × 7 columns</p>\n",
       "</div>"
      ],
      "text/plain": [
       "           Company  Close/Last     Volume    Open     High     Low   Returns\n",
       "Date                                                                        \n",
       "2023-07-14    AAPL       19069   41616240   19023  1911799   18963 -0.017011\n",
       "2023-07-13    AAPL       19054   41342340   19050    19119   18978 -0.000787\n",
       "2023-07-12    AAPL       18977   60750250   18968    19170   18847 -0.004041\n",
       "2023-07-11    AAPL       18808   46638120   18916    18930   18660 -0.008906\n",
       "2023-07-10    AAPL       18861   59922160   18926    18999  187035  0.002818\n",
       "...            ...         ...        ...     ...      ...     ...       ...\n",
       "2013-07-24    AAPL      157325  591624923  156761   158782   15545  0.004585\n",
       "2013-07-23    AAPL      149639  354477618  152143   152486  149539 -0.048854\n",
       "2013-07-22    AAPL      152254  207648981  153379   153482  151953  0.017475\n",
       "2013-07-19    AAPL      151768  268548901  154679   154993  151554 -0.003192\n",
       "2013-07-18    AAPL      154199  218632537  154779   155311  153789  0.016018\n",
       "\n",
       "[2515 rows x 7 columns]"
      ]
     },
     "execution_count": 67,
     "metadata": {},
     "output_type": "execute_result"
    }
   ],
   "source": [
    "aapl"
   ]
  },
  {
   "cell_type": "code",
   "execution_count": 278,
   "id": "787208fc",
   "metadata": {},
   "outputs": [
    {
     "data": {
      "text/plain": [
       "Company\n",
       "AAPL    105.994004\n",
       "AMD       9.630841\n",
       "AMZN    107.236797\n",
       "CSCO     98.394748\n",
       "META    101.978207\n",
       "MSFT     99.969648\n",
       "NFLX    104.911546\n",
       "QCOM      9.308866\n",
       "SBUX     99.395613\n",
       "TSLA    119.737852\n",
       "Name: Returns, dtype: float64"
      ]
     },
     "execution_count": 278,
     "metadata": {},
     "output_type": "execute_result"
    }
   ],
   "source": [
    "df.groupby(by='Company')['Returns'].max()"
   ]
  },
  {
   "cell_type": "code",
   "execution_count": 73,
   "id": "8cfa9543",
   "metadata": {},
   "outputs": [],
   "source": [
    "max_return = pd.DataFrame(df.groupby(by=['Company', 'Year'])['Returns'].max())"
   ]
  },
  {
   "cell_type": "code",
   "execution_count": 75,
   "id": "4e6b1313",
   "metadata": {},
   "outputs": [],
   "source": [
    "max_return.reset_index(inplace=True)"
   ]
  },
  {
   "cell_type": "code",
   "execution_count": 76,
   "id": "82f43416",
   "metadata": {},
   "outputs": [
    {
     "data": {
      "text/html": [
       "<div>\n",
       "<style scoped>\n",
       "    .dataframe tbody tr th:only-of-type {\n",
       "        vertical-align: middle;\n",
       "    }\n",
       "\n",
       "    .dataframe tbody tr th {\n",
       "        vertical-align: top;\n",
       "    }\n",
       "\n",
       "    .dataframe thead th {\n",
       "        text-align: right;\n",
       "    }\n",
       "</style>\n",
       "<table border=\"1\" class=\"dataframe\">\n",
       "  <thead>\n",
       "    <tr style=\"text-align: right;\">\n",
       "      <th></th>\n",
       "      <th>Company</th>\n",
       "      <th>Year</th>\n",
       "      <th>Returns</th>\n",
       "    </tr>\n",
       "  </thead>\n",
       "  <tbody>\n",
       "    <tr>\n",
       "      <th>0</th>\n",
       "      <td>AAPL</td>\n",
       "      <td>2013</td>\n",
       "      <td>98.470522</td>\n",
       "    </tr>\n",
       "    <tr>\n",
       "      <th>1</th>\n",
       "      <td>AAPL</td>\n",
       "      <td>2014</td>\n",
       "      <td>101.667364</td>\n",
       "    </tr>\n",
       "    <tr>\n",
       "      <th>2</th>\n",
       "      <td>AAPL</td>\n",
       "      <td>2015</td>\n",
       "      <td>105.514750</td>\n",
       "    </tr>\n",
       "    <tr>\n",
       "      <th>3</th>\n",
       "      <td>AAPL</td>\n",
       "      <td>2016</td>\n",
       "      <td>101.205061</td>\n",
       "    </tr>\n",
       "    <tr>\n",
       "      <th>4</th>\n",
       "      <td>AAPL</td>\n",
       "      <td>2017</td>\n",
       "      <td>101.118244</td>\n",
       "    </tr>\n",
       "    <tr>\n",
       "      <th>...</th>\n",
       "      <td>...</td>\n",
       "      <td>...</td>\n",
       "      <td>...</td>\n",
       "    </tr>\n",
       "    <tr>\n",
       "      <th>105</th>\n",
       "      <td>TSLA</td>\n",
       "      <td>2019</td>\n",
       "      <td>102.318153</td>\n",
       "    </tr>\n",
       "    <tr>\n",
       "      <th>106</th>\n",
       "      <td>TSLA</td>\n",
       "      <td>2020</td>\n",
       "      <td>119.737852</td>\n",
       "    </tr>\n",
       "    <tr>\n",
       "      <th>107</th>\n",
       "      <td>TSLA</td>\n",
       "      <td>2021</td>\n",
       "      <td>106.448374</td>\n",
       "    </tr>\n",
       "    <tr>\n",
       "      <th>108</th>\n",
       "      <td>TSLA</td>\n",
       "      <td>2022</td>\n",
       "      <td>112.874615</td>\n",
       "    </tr>\n",
       "    <tr>\n",
       "      <th>109</th>\n",
       "      <td>TSLA</td>\n",
       "      <td>2023</td>\n",
       "      <td>0.107982</td>\n",
       "    </tr>\n",
       "  </tbody>\n",
       "</table>\n",
       "<p>110 rows × 3 columns</p>\n",
       "</div>"
      ],
      "text/plain": [
       "    Company  Year     Returns\n",
       "0      AAPL  2013   98.470522\n",
       "1      AAPL  2014  101.667364\n",
       "2      AAPL  2015  105.514750\n",
       "3      AAPL  2016  101.205061\n",
       "4      AAPL  2017  101.118244\n",
       "..      ...   ...         ...\n",
       "105    TSLA  2019  102.318153\n",
       "106    TSLA  2020  119.737852\n",
       "107    TSLA  2021  106.448374\n",
       "108    TSLA  2022  112.874615\n",
       "109    TSLA  2023    0.107982\n",
       "\n",
       "[110 rows x 3 columns]"
      ]
     },
     "execution_count": 76,
     "metadata": {},
     "output_type": "execute_result"
    }
   ],
   "source": [
    "max_return"
   ]
  },
  {
   "cell_type": "code",
   "execution_count": 79,
   "id": "7757ef30",
   "metadata": {},
   "outputs": [
    {
     "data": {
      "text/html": [
       "<div>\n",
       "<style scoped>\n",
       "    .dataframe tbody tr th:only-of-type {\n",
       "        vertical-align: middle;\n",
       "    }\n",
       "\n",
       "    .dataframe tbody tr th {\n",
       "        vertical-align: top;\n",
       "    }\n",
       "\n",
       "    .dataframe thead th {\n",
       "        text-align: right;\n",
       "    }\n",
       "</style>\n",
       "<table border=\"1\" class=\"dataframe\">\n",
       "  <thead>\n",
       "    <tr style=\"text-align: right;\">\n",
       "      <th></th>\n",
       "      <th>Company</th>\n",
       "      <th>Close/Last</th>\n",
       "      <th>Volume</th>\n",
       "      <th>Open</th>\n",
       "      <th>High</th>\n",
       "      <th>Low</th>\n",
       "      <th>Returns</th>\n",
       "      <th>Year</th>\n",
       "    </tr>\n",
       "    <tr>\n",
       "      <th>Date</th>\n",
       "      <th></th>\n",
       "      <th></th>\n",
       "      <th></th>\n",
       "      <th></th>\n",
       "      <th></th>\n",
       "      <th></th>\n",
       "      <th></th>\n",
       "      <th></th>\n",
       "    </tr>\n",
       "  </thead>\n",
       "  <tbody>\n",
       "    <tr>\n",
       "      <th>2023-07-14</th>\n",
       "      <td>AAPL</td>\n",
       "      <td>19069</td>\n",
       "      <td>41616240</td>\n",
       "      <td>19023</td>\n",
       "      <td>1911799</td>\n",
       "      <td>18963</td>\n",
       "      <td>-0.017011</td>\n",
       "      <td>2023</td>\n",
       "    </tr>\n",
       "    <tr>\n",
       "      <th>2023-07-13</th>\n",
       "      <td>AAPL</td>\n",
       "      <td>19054</td>\n",
       "      <td>41342340</td>\n",
       "      <td>19050</td>\n",
       "      <td>19119</td>\n",
       "      <td>18978</td>\n",
       "      <td>-0.000787</td>\n",
       "      <td>2023</td>\n",
       "    </tr>\n",
       "    <tr>\n",
       "      <th>2023-07-12</th>\n",
       "      <td>AAPL</td>\n",
       "      <td>18977</td>\n",
       "      <td>60750250</td>\n",
       "      <td>18968</td>\n",
       "      <td>19170</td>\n",
       "      <td>18847</td>\n",
       "      <td>-0.004041</td>\n",
       "      <td>2023</td>\n",
       "    </tr>\n",
       "    <tr>\n",
       "      <th>2023-07-11</th>\n",
       "      <td>AAPL</td>\n",
       "      <td>18808</td>\n",
       "      <td>46638120</td>\n",
       "      <td>18916</td>\n",
       "      <td>18930</td>\n",
       "      <td>18660</td>\n",
       "      <td>-0.008906</td>\n",
       "      <td>2023</td>\n",
       "    </tr>\n",
       "    <tr>\n",
       "      <th>2023-07-10</th>\n",
       "      <td>AAPL</td>\n",
       "      <td>18861</td>\n",
       "      <td>59922160</td>\n",
       "      <td>18926</td>\n",
       "      <td>18999</td>\n",
       "      <td>187035</td>\n",
       "      <td>0.002818</td>\n",
       "      <td>2023</td>\n",
       "    </tr>\n",
       "  </tbody>\n",
       "</table>\n",
       "</div>"
      ],
      "text/plain": [
       "           Company  Close/Last    Volume   Open     High     Low   Returns  \\\n",
       "Date                                                                         \n",
       "2023-07-14    AAPL       19069  41616240  19023  1911799   18963 -0.017011   \n",
       "2023-07-13    AAPL       19054  41342340  19050    19119   18978 -0.000787   \n",
       "2023-07-12    AAPL       18977  60750250  18968    19170   18847 -0.004041   \n",
       "2023-07-11    AAPL       18808  46638120  18916    18930   18660 -0.008906   \n",
       "2023-07-10    AAPL       18861  59922160  18926    18999  187035  0.002818   \n",
       "\n",
       "            Year  \n",
       "Date              \n",
       "2023-07-14  2023  \n",
       "2023-07-13  2023  \n",
       "2023-07-12  2023  \n",
       "2023-07-11  2023  \n",
       "2023-07-10  2023  "
      ]
     },
     "execution_count": 79,
     "metadata": {},
     "output_type": "execute_result"
    }
   ],
   "source": [
    "df.head()"
   ]
  },
  {
   "cell_type": "code",
   "execution_count": 81,
   "id": "bd14c988",
   "metadata": {},
   "outputs": [],
   "source": [
    "df_new = df"
   ]
  },
  {
   "cell_type": "code",
   "execution_count": 83,
   "id": "5c31bb6b",
   "metadata": {},
   "outputs": [],
   "source": [
    "df_new.reset_index(inplace=True)"
   ]
  },
  {
   "cell_type": "code",
   "execution_count": 84,
   "id": "68141b3c",
   "metadata": {},
   "outputs": [
    {
     "data": {
      "text/html": [
       "<div>\n",
       "<style scoped>\n",
       "    .dataframe tbody tr th:only-of-type {\n",
       "        vertical-align: middle;\n",
       "    }\n",
       "\n",
       "    .dataframe tbody tr th {\n",
       "        vertical-align: top;\n",
       "    }\n",
       "\n",
       "    .dataframe thead th {\n",
       "        text-align: right;\n",
       "    }\n",
       "</style>\n",
       "<table border=\"1\" class=\"dataframe\">\n",
       "  <thead>\n",
       "    <tr style=\"text-align: right;\">\n",
       "      <th></th>\n",
       "      <th>Date</th>\n",
       "      <th>Company</th>\n",
       "      <th>Close/Last</th>\n",
       "      <th>Volume</th>\n",
       "      <th>Open</th>\n",
       "      <th>High</th>\n",
       "      <th>Low</th>\n",
       "      <th>Returns</th>\n",
       "      <th>Year</th>\n",
       "    </tr>\n",
       "  </thead>\n",
       "  <tbody>\n",
       "    <tr>\n",
       "      <th>0</th>\n",
       "      <td>2023-07-14</td>\n",
       "      <td>AAPL</td>\n",
       "      <td>19069</td>\n",
       "      <td>41616240</td>\n",
       "      <td>19023</td>\n",
       "      <td>1911799</td>\n",
       "      <td>18963</td>\n",
       "      <td>-0.017011</td>\n",
       "      <td>2023</td>\n",
       "    </tr>\n",
       "    <tr>\n",
       "      <th>1</th>\n",
       "      <td>2023-07-13</td>\n",
       "      <td>AAPL</td>\n",
       "      <td>19054</td>\n",
       "      <td>41342340</td>\n",
       "      <td>19050</td>\n",
       "      <td>19119</td>\n",
       "      <td>18978</td>\n",
       "      <td>-0.000787</td>\n",
       "      <td>2023</td>\n",
       "    </tr>\n",
       "    <tr>\n",
       "      <th>2</th>\n",
       "      <td>2023-07-12</td>\n",
       "      <td>AAPL</td>\n",
       "      <td>18977</td>\n",
       "      <td>60750250</td>\n",
       "      <td>18968</td>\n",
       "      <td>19170</td>\n",
       "      <td>18847</td>\n",
       "      <td>-0.004041</td>\n",
       "      <td>2023</td>\n",
       "    </tr>\n",
       "    <tr>\n",
       "      <th>3</th>\n",
       "      <td>2023-07-11</td>\n",
       "      <td>AAPL</td>\n",
       "      <td>18808</td>\n",
       "      <td>46638120</td>\n",
       "      <td>18916</td>\n",
       "      <td>18930</td>\n",
       "      <td>18660</td>\n",
       "      <td>-0.008906</td>\n",
       "      <td>2023</td>\n",
       "    </tr>\n",
       "    <tr>\n",
       "      <th>4</th>\n",
       "      <td>2023-07-10</td>\n",
       "      <td>AAPL</td>\n",
       "      <td>18861</td>\n",
       "      <td>59922160</td>\n",
       "      <td>18926</td>\n",
       "      <td>18999</td>\n",
       "      <td>187035</td>\n",
       "      <td>0.002818</td>\n",
       "      <td>2023</td>\n",
       "    </tr>\n",
       "  </tbody>\n",
       "</table>\n",
       "</div>"
      ],
      "text/plain": [
       "        Date Company  Close/Last    Volume   Open     High     Low   Returns  \\\n",
       "0 2023-07-14    AAPL       19069  41616240  19023  1911799   18963 -0.017011   \n",
       "1 2023-07-13    AAPL       19054  41342340  19050    19119   18978 -0.000787   \n",
       "2 2023-07-12    AAPL       18977  60750250  18968    19170   18847 -0.004041   \n",
       "3 2023-07-11    AAPL       18808  46638120  18916    18930   18660 -0.008906   \n",
       "4 2023-07-10    AAPL       18861  59922160  18926    18999  187035  0.002818   \n",
       "\n",
       "   Year  \n",
       "0  2023  \n",
       "1  2023  \n",
       "2  2023  \n",
       "3  2023  \n",
       "4  2023  "
      ]
     },
     "execution_count": 84,
     "metadata": {},
     "output_type": "execute_result"
    }
   ],
   "source": [
    "df_new.head()"
   ]
  },
  {
   "cell_type": "code",
   "execution_count": 89,
   "id": "ba6bb6e5",
   "metadata": {},
   "outputs": [
    {
     "data": {
      "text/html": [
       "<div>\n",
       "<style scoped>\n",
       "    .dataframe tbody tr th:only-of-type {\n",
       "        vertical-align: middle;\n",
       "    }\n",
       "\n",
       "    .dataframe tbody tr th {\n",
       "        vertical-align: top;\n",
       "    }\n",
       "\n",
       "    .dataframe thead th {\n",
       "        text-align: right;\n",
       "    }\n",
       "</style>\n",
       "<table border=\"1\" class=\"dataframe\">\n",
       "  <thead>\n",
       "    <tr style=\"text-align: right;\">\n",
       "      <th></th>\n",
       "      <th>Date</th>\n",
       "      <th>Company</th>\n",
       "      <th>Close/Last</th>\n",
       "      <th>Volume</th>\n",
       "      <th>Open</th>\n",
       "      <th>High</th>\n",
       "      <th>Low</th>\n",
       "      <th>Returns</th>\n",
       "      <th>Year</th>\n",
       "    </tr>\n",
       "  </thead>\n",
       "  <tbody>\n",
       "    <tr>\n",
       "      <th>0</th>\n",
       "      <td>2023-07-14</td>\n",
       "      <td>AAPL</td>\n",
       "      <td>19069</td>\n",
       "      <td>41616240</td>\n",
       "      <td>19023</td>\n",
       "      <td>1911799</td>\n",
       "      <td>18963</td>\n",
       "      <td>-0.017011</td>\n",
       "      <td>2023</td>\n",
       "    </tr>\n",
       "    <tr>\n",
       "      <th>1</th>\n",
       "      <td>2023-07-13</td>\n",
       "      <td>AAPL</td>\n",
       "      <td>19054</td>\n",
       "      <td>41342340</td>\n",
       "      <td>19050</td>\n",
       "      <td>19119</td>\n",
       "      <td>18978</td>\n",
       "      <td>-0.000787</td>\n",
       "      <td>2023</td>\n",
       "    </tr>\n",
       "    <tr>\n",
       "      <th>2</th>\n",
       "      <td>2023-07-12</td>\n",
       "      <td>AAPL</td>\n",
       "      <td>18977</td>\n",
       "      <td>60750250</td>\n",
       "      <td>18968</td>\n",
       "      <td>19170</td>\n",
       "      <td>18847</td>\n",
       "      <td>-0.004041</td>\n",
       "      <td>2023</td>\n",
       "    </tr>\n",
       "    <tr>\n",
       "      <th>3</th>\n",
       "      <td>2023-07-11</td>\n",
       "      <td>AAPL</td>\n",
       "      <td>18808</td>\n",
       "      <td>46638120</td>\n",
       "      <td>18916</td>\n",
       "      <td>18930</td>\n",
       "      <td>18660</td>\n",
       "      <td>-0.008906</td>\n",
       "      <td>2023</td>\n",
       "    </tr>\n",
       "    <tr>\n",
       "      <th>4</th>\n",
       "      <td>2023-07-10</td>\n",
       "      <td>AAPL</td>\n",
       "      <td>18861</td>\n",
       "      <td>59922160</td>\n",
       "      <td>18926</td>\n",
       "      <td>18999</td>\n",
       "      <td>187035</td>\n",
       "      <td>0.002818</td>\n",
       "      <td>2023</td>\n",
       "    </tr>\n",
       "  </tbody>\n",
       "</table>\n",
       "</div>"
      ],
      "text/plain": [
       "        Date Company  Close/Last    Volume   Open     High     Low   Returns  \\\n",
       "0 2023-07-14    AAPL       19069  41616240  19023  1911799   18963 -0.017011   \n",
       "1 2023-07-13    AAPL       19054  41342340  19050    19119   18978 -0.000787   \n",
       "2 2023-07-12    AAPL       18977  60750250  18968    19170   18847 -0.004041   \n",
       "3 2023-07-11    AAPL       18808  46638120  18916    18930   18660 -0.008906   \n",
       "4 2023-07-10    AAPL       18861  59922160  18926    18999  187035  0.002818   \n",
       "\n",
       "   Year  \n",
       "0  2023  \n",
       "1  2023  \n",
       "2  2023  \n",
       "3  2023  \n",
       "4  2023  "
      ]
     },
     "execution_count": 89,
     "metadata": {},
     "output_type": "execute_result"
    }
   ],
   "source": [
    "df.head()"
   ]
  },
  {
   "cell_type": "code",
   "execution_count": 92,
   "id": "7f8219d6",
   "metadata": {},
   "outputs": [
    {
     "data": {
      "text/plain": [
       "array(['AAPL', 'SBUX', 'MSFT', 'CSCO', 'QCOM', 'META', 'AMZN', 'TSLA',\n",
       "       'AMD', 'NFLX'], dtype=object)"
      ]
     },
     "execution_count": 92,
     "metadata": {},
     "output_type": "execute_result"
    }
   ],
   "source": [
    "df['Company'].unique()"
   ]
  },
  {
   "cell_type": "code",
   "execution_count": 101,
   "id": "d0b8447c",
   "metadata": {},
   "outputs": [],
   "source": [
    "tickers = ['AAPL', 'SBUX', 'MSFT', 'CSCO', 'QCOM', 'META', 'AMZN', 'TSLA',\n",
    "       'AMD', 'NFLX']"
   ]
  },
  {
   "cell_type": "code",
   "execution_count": 98,
   "id": "134f4e12",
   "metadata": {},
   "outputs": [
    {
     "data": {
      "text/plain": [
       "9.630841121495328"
      ]
     },
     "execution_count": 98,
     "metadata": {},
     "output_type": "execute_result"
    }
   ],
   "source": [
    "df[df['Company'] == 'AMD']['Returns'].max()"
   ]
  },
  {
   "cell_type": "code",
   "execution_count": 96,
   "id": "8481b8d9",
   "metadata": {},
   "outputs": [
    {
     "data": {
      "text/plain": [
       "22019"
      ]
     },
     "execution_count": 96,
     "metadata": {},
     "output_type": "execute_result"
    }
   ],
   "source": [
    "df[df['Company'] == 'AMD']['Returns'].idxmax()"
   ]
  },
  {
   "cell_type": "code",
   "execution_count": 97,
   "id": "d79fb3ff",
   "metadata": {},
   "outputs": [
    {
     "data": {
      "text/plain": [
       "2016"
      ]
     },
     "execution_count": 97,
     "metadata": {},
     "output_type": "execute_result"
    }
   ],
   "source": [
    "df.at[22019, 'Year']"
   ]
  },
  {
   "cell_type": "code",
   "execution_count": 162,
   "id": "f624d965",
   "metadata": {},
   "outputs": [
    {
     "name": "stdout",
     "output_type": "stream",
     "text": [
      "AAPL Date\n",
      "2020-02-26    2020\n",
      "2020-02-26    2020\n",
      "2020-02-26    2020\n",
      "2020-02-26    2020\n",
      "2020-02-26    2020\n",
      "2020-02-26    2020\n",
      "2020-02-26    2020\n",
      "2020-02-26    2020\n",
      "2020-02-26    2020\n",
      "2020-02-26    2020\n",
      "Name: Year, dtype: int64 105.99400409476455\n",
      "SBUX Date\n",
      "2013-11-13    2013\n",
      "2013-11-13    2013\n",
      "2013-11-13    2013\n",
      "2013-11-13    2013\n",
      "2013-11-13    2013\n",
      "2013-11-13    2013\n",
      "2013-11-13    2013\n",
      "2013-11-13    2013\n",
      "2013-11-13    2013\n",
      "2013-11-13    2013\n",
      "Name: Year, dtype: int64 99.39561252156766\n",
      "MSFT Date\n",
      "2014-07-30    2014\n",
      "2014-07-30    2014\n",
      "2014-07-30    2014\n",
      "2014-07-30    2014\n",
      "2014-07-30    2014\n",
      "2014-07-30    2014\n",
      "2014-07-30    2014\n",
      "2014-07-30    2014\n",
      "2014-07-30    2014\n",
      "2014-07-30    2014\n",
      "Name: Year, dtype: int64 99.96964782205747\n",
      "CSCO Date\n",
      "2014-04-04    2014\n",
      "2014-04-04    2014\n",
      "2014-04-04    2014\n",
      "2014-04-04    2014\n",
      "2014-04-04    2014\n",
      "2014-04-04    2014\n",
      "2014-04-04    2014\n",
      "2014-04-04    2014\n",
      "2014-04-04    2014\n",
      "2014-04-04    2014\n",
      "Name: Year, dtype: int64 98.39474835886215\n",
      "QCOM Date\n",
      "2019-05-23    2019\n",
      "2019-05-23    2019\n",
      "2019-05-23    2019\n",
      "2019-05-23    2019\n",
      "2019-05-23    2019\n",
      "2019-05-23    2019\n",
      "2019-05-23    2019\n",
      "2019-05-23    2019\n",
      "2019-05-23    2019\n",
      "2019-05-23    2019\n",
      "Name: Year, dtype: int64 9.308865730252228\n",
      "META Date\n",
      "2014-03-12    2014\n",
      "2014-03-12    2014\n",
      "2014-03-12    2014\n",
      "2014-03-12    2014\n",
      "2014-03-12    2014\n",
      "2014-03-12    2014\n",
      "2014-03-12    2014\n",
      "2014-03-12    2014\n",
      "2014-03-12    2014\n",
      "2014-03-12    2014\n",
      "Name: Year, dtype: int64 101.978207177103\n",
      "AMZN Date\n",
      "2016-01-28    2016\n",
      "2016-01-28    2016\n",
      "2016-01-28    2016\n",
      "2016-01-28    2016\n",
      "2016-01-28    2016\n",
      "2016-01-28    2016\n",
      "2016-01-28    2016\n",
      "2016-01-28    2016\n",
      "2016-01-28    2016\n",
      "2016-01-28    2016\n",
      "Name: Year, dtype: int64 107.23679727427599\n",
      "TSLA Date\n",
      "2020-02-04    2020\n",
      "2020-02-04    2020\n",
      "2020-02-04    2020\n",
      "2020-02-04    2020\n",
      "2020-02-04    2020\n",
      "2020-02-04    2020\n",
      "2020-02-04    2020\n",
      "2020-02-04    2020\n",
      "2020-02-04    2020\n",
      "2020-02-04    2020\n",
      "Name: Year, dtype: int64 119.73785218456513\n",
      "AMD Date\n",
      "2016-01-07    2016\n",
      "2016-01-07    2016\n",
      "2016-01-07    2016\n",
      "2016-01-07    2016\n",
      "2016-01-07    2016\n",
      "2016-01-07    2016\n",
      "2016-01-07    2016\n",
      "2016-01-07    2016\n",
      "2016-01-07    2016\n",
      "2016-01-07    2016\n",
      "Name: Year, dtype: int64 9.630841121495328\n",
      "NFLX Date\n",
      "2014-01-06    2014\n",
      "2014-01-06    2014\n",
      "2014-01-06    2014\n",
      "2014-01-06    2014\n",
      "2014-01-06    2014\n",
      "2014-01-06    2014\n",
      "2014-01-06    2014\n",
      "2014-01-06    2014\n",
      "2014-01-06    2014\n",
      "2014-01-06    2014\n",
      "Name: Year, dtype: int64 104.91154639175258\n"
     ]
    }
   ],
   "source": [
    "for ticks in tickers:\n",
    "    index_ = df[df['Company'] == ticks]['Returns'].idxmax()\n",
    "    print(ticks, df.at[index_, 'Year'], df[df['Company'] == ticks]['Returns'].max())\n",
    "    \n",
    "    "
   ]
  },
  {
   "cell_type": "code",
   "execution_count": 133,
   "id": "8dd7ee7b",
   "metadata": {},
   "outputs": [],
   "source": [
    "#ticks, df.at[index_, 'Year'], "
   ]
  },
  {
   "cell_type": "code",
   "execution_count": 108,
   "id": "77503c4f",
   "metadata": {},
   "outputs": [
    {
     "data": {
      "text/html": [
       "<div>\n",
       "<style scoped>\n",
       "    .dataframe tbody tr th:only-of-type {\n",
       "        vertical-align: middle;\n",
       "    }\n",
       "\n",
       "    .dataframe tbody tr th {\n",
       "        vertical-align: top;\n",
       "    }\n",
       "\n",
       "    .dataframe thead th {\n",
       "        text-align: right;\n",
       "    }\n",
       "</style>\n",
       "<table border=\"1\" class=\"dataframe\">\n",
       "  <thead>\n",
       "    <tr style=\"text-align: right;\">\n",
       "      <th></th>\n",
       "      <th>Date</th>\n",
       "      <th>Company</th>\n",
       "      <th>Close/Last</th>\n",
       "      <th>Volume</th>\n",
       "      <th>Open</th>\n",
       "      <th>High</th>\n",
       "      <th>Low</th>\n",
       "      <th>Returns</th>\n",
       "      <th>Year</th>\n",
       "    </tr>\n",
       "  </thead>\n",
       "  <tbody>\n",
       "    <tr>\n",
       "      <th>0</th>\n",
       "      <td>2023-07-14</td>\n",
       "      <td>AAPL</td>\n",
       "      <td>19069</td>\n",
       "      <td>41616240</td>\n",
       "      <td>19023</td>\n",
       "      <td>1911799</td>\n",
       "      <td>18963</td>\n",
       "      <td>-0.017011</td>\n",
       "      <td>2023</td>\n",
       "    </tr>\n",
       "    <tr>\n",
       "      <th>1</th>\n",
       "      <td>2023-07-13</td>\n",
       "      <td>AAPL</td>\n",
       "      <td>19054</td>\n",
       "      <td>41342340</td>\n",
       "      <td>19050</td>\n",
       "      <td>19119</td>\n",
       "      <td>18978</td>\n",
       "      <td>-0.000787</td>\n",
       "      <td>2023</td>\n",
       "    </tr>\n",
       "    <tr>\n",
       "      <th>2</th>\n",
       "      <td>2023-07-12</td>\n",
       "      <td>AAPL</td>\n",
       "      <td>18977</td>\n",
       "      <td>60750250</td>\n",
       "      <td>18968</td>\n",
       "      <td>19170</td>\n",
       "      <td>18847</td>\n",
       "      <td>-0.004041</td>\n",
       "      <td>2023</td>\n",
       "    </tr>\n",
       "    <tr>\n",
       "      <th>3</th>\n",
       "      <td>2023-07-11</td>\n",
       "      <td>AAPL</td>\n",
       "      <td>18808</td>\n",
       "      <td>46638120</td>\n",
       "      <td>18916</td>\n",
       "      <td>18930</td>\n",
       "      <td>18660</td>\n",
       "      <td>-0.008906</td>\n",
       "      <td>2023</td>\n",
       "    </tr>\n",
       "    <tr>\n",
       "      <th>4</th>\n",
       "      <td>2023-07-10</td>\n",
       "      <td>AAPL</td>\n",
       "      <td>18861</td>\n",
       "      <td>59922160</td>\n",
       "      <td>18926</td>\n",
       "      <td>18999</td>\n",
       "      <td>187035</td>\n",
       "      <td>0.002818</td>\n",
       "      <td>2023</td>\n",
       "    </tr>\n",
       "  </tbody>\n",
       "</table>\n",
       "</div>"
      ],
      "text/plain": [
       "        Date Company  Close/Last    Volume   Open     High     Low   Returns  \\\n",
       "0 2023-07-14    AAPL       19069  41616240  19023  1911799   18963 -0.017011   \n",
       "1 2023-07-13    AAPL       19054  41342340  19050    19119   18978 -0.000787   \n",
       "2 2023-07-12    AAPL       18977  60750250  18968    19170   18847 -0.004041   \n",
       "3 2023-07-11    AAPL       18808  46638120  18916    18930   18660 -0.008906   \n",
       "4 2023-07-10    AAPL       18861  59922160  18926    18999  187035  0.002818   \n",
       "\n",
       "   Year  \n",
       "0  2023  \n",
       "1  2023  \n",
       "2  2023  \n",
       "3  2023  \n",
       "4  2023  "
      ]
     },
     "execution_count": 108,
     "metadata": {},
     "output_type": "execute_result"
    }
   ],
   "source": [
    "df.head()"
   ]
  },
  {
   "cell_type": "code",
   "execution_count": 109,
   "id": "9d80df61",
   "metadata": {},
   "outputs": [],
   "source": [
    "df.set_index('Date', inplace=True)"
   ]
  },
  {
   "cell_type": "code",
   "execution_count": 110,
   "id": "80ed4adb",
   "metadata": {},
   "outputs": [
    {
     "data": {
      "text/html": [
       "<div>\n",
       "<style scoped>\n",
       "    .dataframe tbody tr th:only-of-type {\n",
       "        vertical-align: middle;\n",
       "    }\n",
       "\n",
       "    .dataframe tbody tr th {\n",
       "        vertical-align: top;\n",
       "    }\n",
       "\n",
       "    .dataframe thead th {\n",
       "        text-align: right;\n",
       "    }\n",
       "</style>\n",
       "<table border=\"1\" class=\"dataframe\">\n",
       "  <thead>\n",
       "    <tr style=\"text-align: right;\">\n",
       "      <th></th>\n",
       "      <th>Company</th>\n",
       "      <th>Close/Last</th>\n",
       "      <th>Volume</th>\n",
       "      <th>Open</th>\n",
       "      <th>High</th>\n",
       "      <th>Low</th>\n",
       "      <th>Returns</th>\n",
       "      <th>Year</th>\n",
       "    </tr>\n",
       "    <tr>\n",
       "      <th>Date</th>\n",
       "      <th></th>\n",
       "      <th></th>\n",
       "      <th></th>\n",
       "      <th></th>\n",
       "      <th></th>\n",
       "      <th></th>\n",
       "      <th></th>\n",
       "      <th></th>\n",
       "    </tr>\n",
       "  </thead>\n",
       "  <tbody>\n",
       "    <tr>\n",
       "      <th>2023-07-14</th>\n",
       "      <td>AAPL</td>\n",
       "      <td>19069</td>\n",
       "      <td>41616240</td>\n",
       "      <td>19023</td>\n",
       "      <td>1911799</td>\n",
       "      <td>18963</td>\n",
       "      <td>-0.017011</td>\n",
       "      <td>2023</td>\n",
       "    </tr>\n",
       "    <tr>\n",
       "      <th>2023-07-13</th>\n",
       "      <td>AAPL</td>\n",
       "      <td>19054</td>\n",
       "      <td>41342340</td>\n",
       "      <td>19050</td>\n",
       "      <td>19119</td>\n",
       "      <td>18978</td>\n",
       "      <td>-0.000787</td>\n",
       "      <td>2023</td>\n",
       "    </tr>\n",
       "    <tr>\n",
       "      <th>2023-07-12</th>\n",
       "      <td>AAPL</td>\n",
       "      <td>18977</td>\n",
       "      <td>60750250</td>\n",
       "      <td>18968</td>\n",
       "      <td>19170</td>\n",
       "      <td>18847</td>\n",
       "      <td>-0.004041</td>\n",
       "      <td>2023</td>\n",
       "    </tr>\n",
       "    <tr>\n",
       "      <th>2023-07-11</th>\n",
       "      <td>AAPL</td>\n",
       "      <td>18808</td>\n",
       "      <td>46638120</td>\n",
       "      <td>18916</td>\n",
       "      <td>18930</td>\n",
       "      <td>18660</td>\n",
       "      <td>-0.008906</td>\n",
       "      <td>2023</td>\n",
       "    </tr>\n",
       "    <tr>\n",
       "      <th>2023-07-10</th>\n",
       "      <td>AAPL</td>\n",
       "      <td>18861</td>\n",
       "      <td>59922160</td>\n",
       "      <td>18926</td>\n",
       "      <td>18999</td>\n",
       "      <td>187035</td>\n",
       "      <td>0.002818</td>\n",
       "      <td>2023</td>\n",
       "    </tr>\n",
       "  </tbody>\n",
       "</table>\n",
       "</div>"
      ],
      "text/plain": [
       "           Company  Close/Last    Volume   Open     High     Low   Returns  \\\n",
       "Date                                                                         \n",
       "2023-07-14    AAPL       19069  41616240  19023  1911799   18963 -0.017011   \n",
       "2023-07-13    AAPL       19054  41342340  19050    19119   18978 -0.000787   \n",
       "2023-07-12    AAPL       18977  60750250  18968    19170   18847 -0.004041   \n",
       "2023-07-11    AAPL       18808  46638120  18916    18930   18660 -0.008906   \n",
       "2023-07-10    AAPL       18861  59922160  18926    18999  187035  0.002818   \n",
       "\n",
       "            Year  \n",
       "Date              \n",
       "2023-07-14  2023  \n",
       "2023-07-13  2023  \n",
       "2023-07-12  2023  \n",
       "2023-07-11  2023  \n",
       "2023-07-10  2023  "
      ]
     },
     "execution_count": 110,
     "metadata": {},
     "output_type": "execute_result"
    }
   ],
   "source": [
    "df.head()"
   ]
  },
  {
   "cell_type": "code",
   "execution_count": 111,
   "id": "e16a5d1e",
   "metadata": {},
   "outputs": [],
   "source": [
    "csco = df[df['Company'] == 'CSCO']"
   ]
  },
  {
   "cell_type": "code",
   "execution_count": 115,
   "id": "eb256133",
   "metadata": {},
   "outputs": [
    {
     "name": "stderr",
     "output_type": "stream",
     "text": [
      "C:\\Users\\ayush\\AppData\\Local\\Temp\\ipykernel_23724\\702541878.py:1: FutureWarning:\n",
      "\n",
      "Value based partial slicing on non-monotonic DatetimeIndexes with non-existing keys is deprecated and will raise a KeyError in a future Version.\n",
      "\n"
     ]
    },
    {
     "data": {
      "text/plain": [
       "<AxesSubplot:xlabel='Date'>"
      ]
     },
     "execution_count": 115,
     "metadata": {},
     "output_type": "execute_result"
    },
    {
     "data": {
      "image/png": "[encoded data removed]",
      "text/plain": [
       "<Figure size 432x288 with 1 Axes>"
      ]
     },
     "metadata": {},
     "output_type": "display_data"
    }
   ],
   "source": [
    "csco.loc['2022-01-01':'2023-12-31']['Open'].plot(kind='line')"
   ]
  },
  {
   "cell_type": "code",
   "execution_count": 122,
   "id": "a571beab",
   "metadata": {},
   "outputs": [],
   "source": [
    "meta_amzn = df[(df['Company'] == 'META') | (df['Company'] == 'AMZN')]"
   ]
  },
  {
   "cell_type": "code",
   "execution_count": 123,
   "id": "937cb241",
   "metadata": {},
   "outputs": [
    {
     "data": {
      "text/html": [
       "<div>\n",
       "<style scoped>\n",
       "    .dataframe tbody tr th:only-of-type {\n",
       "        vertical-align: middle;\n",
       "    }\n",
       "\n",
       "    .dataframe tbody tr th {\n",
       "        vertical-align: top;\n",
       "    }\n",
       "\n",
       "    .dataframe thead th {\n",
       "        text-align: right;\n",
       "    }\n",
       "</style>\n",
       "<table border=\"1\" class=\"dataframe\">\n",
       "  <thead>\n",
       "    <tr style=\"text-align: right;\">\n",
       "      <th></th>\n",
       "      <th>Company</th>\n",
       "      <th>Close/Last</th>\n",
       "      <th>Volume</th>\n",
       "      <th>Open</th>\n",
       "      <th>High</th>\n",
       "      <th>Low</th>\n",
       "      <th>Returns</th>\n",
       "      <th>Year</th>\n",
       "    </tr>\n",
       "    <tr>\n",
       "      <th>Date</th>\n",
       "      <th></th>\n",
       "      <th></th>\n",
       "      <th></th>\n",
       "      <th></th>\n",
       "      <th></th>\n",
       "      <th></th>\n",
       "      <th></th>\n",
       "      <th></th>\n",
       "    </tr>\n",
       "  </thead>\n",
       "  <tbody>\n",
       "    <tr>\n",
       "      <th>2023-07-17</th>\n",
       "      <td>META</td>\n",
       "      <td>31062</td>\n",
       "      <td>25323130</td>\n",
       "      <td>30754</td>\n",
       "      <td>31171</td>\n",
       "      <td>30471</td>\n",
       "      <td>-0.491745</td>\n",
       "      <td>2023</td>\n",
       "    </tr>\n",
       "    <tr>\n",
       "      <th>2023-07-14</th>\n",
       "      <td>META</td>\n",
       "      <td>30887</td>\n",
       "      <td>23054110</td>\n",
       "      <td>31179</td>\n",
       "      <td>31488</td>\n",
       "      <td>3073612</td>\n",
       "      <td>-0.005634</td>\n",
       "      <td>2023</td>\n",
       "    </tr>\n",
       "    <tr>\n",
       "      <th>2023-07-13</th>\n",
       "      <td>META</td>\n",
       "      <td>31341</td>\n",
       "      <td>30280970</td>\n",
       "      <td>31362</td>\n",
       "      <td>31624</td>\n",
       "      <td>3102901</td>\n",
       "      <td>0.014699</td>\n",
       "      <td>2023</td>\n",
       "    </tr>\n",
       "    <tr>\n",
       "      <th>2023-07-12</th>\n",
       "      <td>META</td>\n",
       "      <td>30934</td>\n",
       "      <td>36677130</td>\n",
       "      <td>301745</td>\n",
       "      <td>30945</td>\n",
       "      <td>3001004</td>\n",
       "      <td>-0.012986</td>\n",
       "      <td>2023</td>\n",
       "    </tr>\n",
       "    <tr>\n",
       "      <th>2023-07-11</th>\n",
       "      <td>META</td>\n",
       "      <td>29829</td>\n",
       "      <td>27585920</td>\n",
       "      <td>29390</td>\n",
       "      <td>30018</td>\n",
       "      <td>29190</td>\n",
       "      <td>-0.035721</td>\n",
       "      <td>2023</td>\n",
       "    </tr>\n",
       "    <tr>\n",
       "      <th>...</th>\n",
       "      <td>...</td>\n",
       "      <td>...</td>\n",
       "      <td>...</td>\n",
       "      <td>...</td>\n",
       "      <td>...</td>\n",
       "      <td>...</td>\n",
       "      <td>...</td>\n",
       "      <td>...</td>\n",
       "    </tr>\n",
       "    <tr>\n",
       "      <th>2013-07-24</th>\n",
       "      <td>AMZN</td>\n",
       "      <td>14947</td>\n",
       "      <td>39980680</td>\n",
       "      <td>15151</td>\n",
       "      <td>15192</td>\n",
       "      <td>14902</td>\n",
       "      <td>8.852999</td>\n",
       "      <td>2013</td>\n",
       "    </tr>\n",
       "    <tr>\n",
       "      <th>2013-07-23</th>\n",
       "      <td>AMZN</td>\n",
       "      <td>15053</td>\n",
       "      <td>39981880</td>\n",
       "      <td>15158</td>\n",
       "      <td>15253</td>\n",
       "      <td>15028</td>\n",
       "      <td>0.007092</td>\n",
       "      <td>2013</td>\n",
       "    </tr>\n",
       "    <tr>\n",
       "      <th>2013-07-22</th>\n",
       "      <td>AMZN</td>\n",
       "      <td>15174</td>\n",
       "      <td>50411260</td>\n",
       "      <td>154625</td>\n",
       "      <td>154625</td>\n",
       "      <td>1510</td>\n",
       "      <td>0.008038</td>\n",
       "      <td>2013</td>\n",
       "    </tr>\n",
       "    <tr>\n",
       "      <th>2013-07-19</th>\n",
       "      <td>AMZN</td>\n",
       "      <td>152615</td>\n",
       "      <td>59250980</td>\n",
       "      <td>152195</td>\n",
       "      <td>152895</td>\n",
       "      <td>150955</td>\n",
       "      <td>9.057664</td>\n",
       "      <td>2013</td>\n",
       "    </tr>\n",
       "    <tr>\n",
       "      <th>2013-07-18</th>\n",
       "      <td>AMZN</td>\n",
       "      <td>152055</td>\n",
       "      <td>61176700</td>\n",
       "      <td>153135</td>\n",
       "      <td>15317</td>\n",
       "      <td>150935</td>\n",
       "      <td>-0.003669</td>\n",
       "      <td>2013</td>\n",
       "    </tr>\n",
       "  </tbody>\n",
       "</table>\n",
       "<p>5032 rows × 8 columns</p>\n",
       "</div>"
      ],
      "text/plain": [
       "           Company  Close/Last    Volume    Open    High      Low   Returns  \\\n",
       "Date                                                                          \n",
       "2023-07-17    META       31062  25323130   30754   31171    30471 -0.491745   \n",
       "2023-07-14    META       30887  23054110   31179   31488  3073612 -0.005634   \n",
       "2023-07-13    META       31341  30280970   31362   31624  3102901  0.014699   \n",
       "2023-07-12    META       30934  36677130  301745   30945  3001004 -0.012986   \n",
       "2023-07-11    META       29829  27585920   29390   30018    29190 -0.035721   \n",
       "...            ...         ...       ...     ...     ...      ...       ...   \n",
       "2013-07-24    AMZN       14947  39980680   15151   15192    14902  8.852999   \n",
       "2013-07-23    AMZN       15053  39981880   15158   15253    15028  0.007092   \n",
       "2013-07-22    AMZN       15174  50411260  154625  154625     1510  0.008038   \n",
       "2013-07-19    AMZN      152615  59250980  152195  152895   150955  9.057664   \n",
       "2013-07-18    AMZN      152055  61176700  153135   15317   150935 -0.003669   \n",
       "\n",
       "            Year  \n",
       "Date              \n",
       "2023-07-17  2023  \n",
       "2023-07-14  2023  \n",
       "2023-07-13  2023  \n",
       "2023-07-12  2023  \n",
       "2023-07-11  2023  \n",
       "...          ...  \n",
       "2013-07-24  2013  \n",
       "2013-07-23  2013  \n",
       "2013-07-22  2013  \n",
       "2013-07-19  2013  \n",
       "2013-07-18  2013  \n",
       "\n",
       "[5032 rows x 8 columns]"
      ]
     },
     "execution_count": 123,
     "metadata": {},
     "output_type": "execute_result"
    }
   ],
   "source": [
    "meta_amzn"
   ]
  },
  {
   "cell_type": "code",
   "execution_count": 132,
   "id": "319a4f3f",
   "metadata": {},
   "outputs": [
    {
     "data": {
      "text/plain": [
       "<AxesSubplot:xlabel='Year', ylabel='Returns'>"
      ]
     },
     "execution_count": 132,
     "metadata": {},
     "output_type": "execute_result"
    },
    {
     "data": {
      "image/png": "[encoded data removed]",
      "text/plain": [
       "<Figure size 864x432 with 1 Axes>"
      ]
     },
     "metadata": {},
     "output_type": "display_data"
    }
   ],
   "source": [
    "plt.figure(figsize=(12,6))\n",
    "\n",
    "sns.lineplot(x = 'Year', y = 'Returns', data = meta_amzn, hue = 'Company')"
   ]
  },
  {
   "cell_type": "code",
   "execution_count": 157,
   "id": "d25ba8f4",
   "metadata": {},
   "outputs": [],
   "source": [
    "high_return = {'Companies' : ['AAPL', 'SBUX', 'MSFT', 'CSCO', 'QCOM', 'META', 'AMZN', 'TSLA',\n",
    "       'AMD', 'NFLX'], 'Year': [2020,2013,2014,2014,2019,2014,2016,2020,2016,2014], 'Returns': [105.99400409476455,\n",
    "99.39561252156766,\n",
    "99.96964782205747,\n",
    "98.39474835886215,\n",
    "9.308865730252228,\n",
    "101.978207177103,\n",
    "107.23679727427599,\n",
    "119.73785218456513,\n",
    "9.630841121495328,\n",
    "104.91154639175258]}"
   ]
  },
  {
   "cell_type": "code",
   "execution_count": 158,
   "id": "79753140",
   "metadata": {},
   "outputs": [],
   "source": [
    "high_return = pd.DataFrame(high_return)"
   ]
  },
  {
   "cell_type": "code",
   "execution_count": 159,
   "id": "8ae48375",
   "metadata": {},
   "outputs": [
    {
     "data": {
      "text/html": [
       "<div>\n",
       "<style scoped>\n",
       "    .dataframe tbody tr th:only-of-type {\n",
       "        vertical-align: middle;\n",
       "    }\n",
       "\n",
       "    .dataframe tbody tr th {\n",
       "        vertical-align: top;\n",
       "    }\n",
       "\n",
       "    .dataframe thead th {\n",
       "        text-align: right;\n",
       "    }\n",
       "</style>\n",
       "<table border=\"1\" class=\"dataframe\">\n",
       "  <thead>\n",
       "    <tr style=\"text-align: right;\">\n",
       "      <th></th>\n",
       "      <th>Companies</th>\n",
       "      <th>Year</th>\n",
       "      <th>Returns</th>\n",
       "    </tr>\n",
       "  </thead>\n",
       "  <tbody>\n",
       "    <tr>\n",
       "      <th>0</th>\n",
       "      <td>AAPL</td>\n",
       "      <td>2020</td>\n",
       "      <td>105.994004</td>\n",
       "    </tr>\n",
       "    <tr>\n",
       "      <th>1</th>\n",
       "      <td>SBUX</td>\n",
       "      <td>2013</td>\n",
       "      <td>99.395613</td>\n",
       "    </tr>\n",
       "    <tr>\n",
       "      <th>2</th>\n",
       "      <td>MSFT</td>\n",
       "      <td>2014</td>\n",
       "      <td>99.969648</td>\n",
       "    </tr>\n",
       "    <tr>\n",
       "      <th>3</th>\n",
       "      <td>CSCO</td>\n",
       "      <td>2014</td>\n",
       "      <td>98.394748</td>\n",
       "    </tr>\n",
       "    <tr>\n",
       "      <th>4</th>\n",
       "      <td>QCOM</td>\n",
       "      <td>2019</td>\n",
       "      <td>9.308866</td>\n",
       "    </tr>\n",
       "    <tr>\n",
       "      <th>5</th>\n",
       "      <td>META</td>\n",
       "      <td>2014</td>\n",
       "      <td>101.978207</td>\n",
       "    </tr>\n",
       "    <tr>\n",
       "      <th>6</th>\n",
       "      <td>AMZN</td>\n",
       "      <td>2016</td>\n",
       "      <td>107.236797</td>\n",
       "    </tr>\n",
       "    <tr>\n",
       "      <th>7</th>\n",
       "      <td>TSLA</td>\n",
       "      <td>2020</td>\n",
       "      <td>119.737852</td>\n",
       "    </tr>\n",
       "    <tr>\n",
       "      <th>8</th>\n",
       "      <td>AMD</td>\n",
       "      <td>2016</td>\n",
       "      <td>9.630841</td>\n",
       "    </tr>\n",
       "    <tr>\n",
       "      <th>9</th>\n",
       "      <td>NFLX</td>\n",
       "      <td>2014</td>\n",
       "      <td>104.911546</td>\n",
       "    </tr>\n",
       "  </tbody>\n",
       "</table>\n",
       "</div>"
      ],
      "text/plain": [
       "  Companies  Year     Returns\n",
       "0      AAPL  2020  105.994004\n",
       "1      SBUX  2013   99.395613\n",
       "2      MSFT  2014   99.969648\n",
       "3      CSCO  2014   98.394748\n",
       "4      QCOM  2019    9.308866\n",
       "5      META  2014  101.978207\n",
       "6      AMZN  2016  107.236797\n",
       "7      TSLA  2020  119.737852\n",
       "8       AMD  2016    9.630841\n",
       "9      NFLX  2014  104.911546"
      ]
     },
     "execution_count": 159,
     "metadata": {},
     "output_type": "execute_result"
    }
   ],
   "source": [
    "high_return"
   ]
  },
  {
   "cell_type": "code",
   "execution_count": 160,
   "id": "49d9147c",
   "metadata": {},
   "outputs": [
    {
     "data": {
      "text/plain": [
       "<AxesSubplot:xlabel='Year', ylabel='Returns'>"
      ]
     },
     "execution_count": 160,
     "metadata": {},
     "output_type": "execute_result"
    },
    {
     "data": {
      "image/png": "[encoded data removed]",
      "text/plain": [
       "<Figure size 432x288 with 1 Axes>"
      ]
     },
     "metadata": {},
     "output_type": "display_data"
    }
   ],
   "source": [
    "sns.lineplot(x='Year', y='Returns', data = high_return)"
   ]
  },
  {
   "cell_type": "code",
   "execution_count": null,
   "id": "eb8f73e0",
   "metadata": {},
   "outputs": [],
   "source": []
  }
 ],
 "metadata": {
  "kernelspec": {
   "display_name": "Python 3 (ipykernel)",
   "language": "python",
   "name": "python3"
  },
  "language_info": {
   "codemirror_mode": {
    "name": "ipython",
    "version": 3
   },
   "file_extension": ".py",
   "mimetype": "text/x-python",
   "name": "python",
   "nbconvert_exporter": "python",
   "pygments_lexer": "ipython3",
   "version": "3.9.12"
  }
 },
 "nbformat": 4,
 "nbformat_minor": 5
}
